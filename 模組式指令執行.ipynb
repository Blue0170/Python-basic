{
 "cells": [
  {
   "cell_type": "markdown",
   "metadata": {},
   "source": [
    "# 設計函數（Function)與呼叫函數\n",
    "輸入參數：函數執行工作需要用的資料，若不需要資料可省去，也可傳入一或多個資料，資料也可有任意型態。\n",
    "#回傳結果：視需要回傳\n",
    "#def 函數名稱(參數1, 參數2， ...): #定義函數\n",
    "   指令區塊\n",
    "   return 結果1, 結果2, ... # 如果不需回傳結果，這行可省略\n",
    "   \n",
    "#結果 = 函數名稱(資料1, 資料2, ...) #呼叫函數，如果沒有回傳結果，變數的指派可省略\n",
    "#後續指令 #函數做完後必須回到這裡繼續執行\n",
    "#* def 最後面的冒號很重要\n",
    "#* 指令區塊要縮排\n",
    "#* 函數執行完必須跳回呼叫指令，並繼續執行接在其後的指令"
   ]
  },
  {
   "cell_type": "code",
   "execution_count": 1,
   "metadata": {},
   "outputs": [
    {
     "name": "stdout",
     "output_type": "stream",
     "text": [
      "55\n",
      "190\n",
      "13250\n",
      "357\n",
      "49995\n"
     ]
    }
   ],
   "source": [
    "# 【練習】CCC老師考同學做等差序列的加總，等差序列有初始值、終止值和公差，考試題目有5題如下：\n",
    "# 1+2+...+10=?\n",
    "# 1+5+...+37=?\n",
    "# 20+30+...+510=?\n",
    "# 123+234+...+673=?\n",
    "# 1111+2222+3333+...+9999=?\n",
    "# 請寫一個間斷的程式來計算這五題的答案。\n",
    "\n",
    "def add(s, e, d):\n",
    "    total = 0\n",
    "    for n in range(s, e+1, d):\n",
    "        total += n\n",
    "    return total\n",
    "\n",
    "print(add(1, 10, 1))\n",
    "print(add(1, 37, 4))\n",
    "print(add(20, 510, 10))\n",
    "print(add(123, 234, 111))\n",
    "print(add(1111,9999, 1111))"
   ]
  },
  {
   "cell_type": "code",
   "execution_count": 3,
   "metadata": {},
   "outputs": [
    {
     "name": "stdout",
     "output_type": "stream",
     "text": [
      "+\n",
      "++\n",
      "+++\n",
      "\n",
      "+\n",
      "++\n",
      "+++\n",
      "++++\n",
      "\n",
      "+\n",
      "++\n",
      "+++\n",
      "++++\n",
      "+++++\n",
      "\n"
     ]
    }
   ],
   "source": [
    "# 【練習】寫一程式輸入一個N值，然後根據N值印出如下的圖樣。\n",
    "# N = 3\tN = 4\tN = 5\n",
    "# +\t+\t+\n",
    "# ++\t++\t++\n",
    "# +++\t+++\t+++\n",
    "# ++++\t++++\n",
    "# +++++\n",
    "def show_triangle(n):\n",
    "    for i in range(1, n+1):\n",
    "        print('+'*i)\n",
    "    print()\n",
    "\n",
    "show_triangle(3)\n",
    "show_triangle(4)\n",
    "show_triangle(5)"
   ]
  },
  {
   "cell_type": "markdown",
   "metadata": {},
   "source": [
    "# 函數參數傳遞\n",
    "#* 位置對應傳入\n",
    "#* 名稱傳入"
   ]
  },
  {
   "cell_type": "code",
   "execution_count": 4,
   "metadata": {},
   "outputs": [
    {
     "name": "stdout",
     "output_type": "stream",
     "text": [
      "55\n",
      "55\n",
      "55\n",
      "55\n",
      "55\n"
     ]
    }
   ],
   "source": [
    "# 【練習】計算 1+2+...+10=?\n",
    "def add(s, e, d):\n",
    "    total = 0\n",
    "    for n in range(s, e+1, d):\n",
    "        total += n\n",
    "    return total\n",
    "\n",
    "print(add(1, 10, 1))\n",
    "print(add(s=1, e=10, d=1))\n",
    "print(add(e=10, d=1, s=1))\n",
    "print(add(1, d=1, e=10))\n",
    "print(add(1, 10, d=1))"
   ]
  },
  {
   "cell_type": "markdown",
   "metadata": {},
   "source": [
    "# 參數預設值\n",
    "#函數參數可事先指定預設值，當傳入的資料不包含該參數時，則該參數的預設值會自動被傳入。\n",
    "\n",
    "def 函數名稱(參數1=預設值1, 參數2， ...): #定義函數\n",
    "   指令區塊\n",
    "   return 結果1, 結果2, ... # 如果不需回傳結果，這行可省略\n",
    "   "
   ]
  },
  {
   "cell_type": "code",
   "execution_count": 6,
   "metadata": {},
   "outputs": [
    {
     "name": "stdout",
     "output_type": "stream",
     "text": [
      "55\n",
      "55\n",
      "55\n",
      "25\n",
      "25\n"
     ]
    }
   ],
   "source": [
    "# 【練習】計算 1+2+...+10=?\n",
    "def add(s, e, d=1):\n",
    "    total = 0\n",
    "    for n in range(s, e+1, d):\n",
    "        total += n\n",
    "    return total\n",
    "\n",
    "print(add(1, 10, 1))\n",
    "print(add(1, 10))\n",
    "print(add(e=10, s=1))\n",
    "print(add(1, 10, 2))\n",
    "print(add(1, d=2, e=10))"
   ]
  },
  {
   "cell_type": "markdown",
   "metadata": {},
   "source": [
    "# 參數可更動性\n",
    "#函數內部的指令區塊若對傳入參數做更動，則有二種可能：\n",
    "\n",
    "#若傳入的是不可異動資料（如整數、小數、字串、布林值），則函數回傳後該參數的值不會改變\n",
    "#若傳入的是可異動資料（如串列、字典等等），則函數回傳後該參數的值會改變"
   ]
  },
  {
   "cell_type": "code",
   "execution_count": 7,
   "metadata": {},
   "outputs": [
    {
     "name": "stdout",
     "output_type": "stream",
     "text": [
      "中了2000元(你的號碼是12、13、22)\n",
      "中了2000元(你的號碼是12、13、-1)\n"
     ]
    }
   ],
   "source": [
    "# 【練習】CCC買了三張樂透，請幫他寫個兌獎程式，每中一個號碼得1000元，沒中獎的號碼請把它設成-1。\n",
    "def check1(a, b, c, lotto):\n",
    "    prize = 3000\n",
    "    if a not in lotto:\n",
    "        prize -= 1000\n",
    "        a = -1\n",
    "    if b not in lotto:\n",
    "        prize -= 1000\n",
    "        b = -1\n",
    "    if c not in lotto:\n",
    "        prize -= 1000\n",
    "        c = -1\n",
    "    return prize\n",
    "\n",
    "def check2(numbers, lotto):\n",
    "    prize = 3000\n",
    "    for i in range(3):\n",
    "        if numbers[i] not in lotto:\n",
    "            prize -= 1000\n",
    "            numbers[i] = -1\n",
    "    return prize\n",
    "\n",
    "lotto = [12, 23, 13]\n",
    "n1, n2, n3 = 12, 13, 22\n",
    "print('中了%d元(你的號碼是%d、%d、%d)'%(check1(n1,n2,n3,lotto),n1,n2,n3))\n",
    "numbers = [12, 13, 22]\n",
    "print('中了%d元(你的號碼是%d、%d、%d)'%(check2(numbers, lotto), numbers[0], numbers[1], numbers[2]))"
   ]
  },
  {
   "cell_type": "markdown",
   "metadata": {},
   "source": [
    "# 局部變數與全域變數\n",
    "#局部變數：在函數內部首次出現的變數，當函數結束後，此變數不復存在。\n",
    "#全域變數：當函數結束後，此變數依舊存在，且在函數中對其更動都會發生效用。全域變數有二種：\n",
    "#在函數外部已經出現過的變數且非以參數傳遞傳入的變數\n",
    "#或是在函數內部利用global指令宣告的變數"
   ]
  },
  {
   "cell_type": "code",
   "execution_count": 8,
   "metadata": {},
   "outputs": [
    {
     "name": "stdout",
     "output_type": "stream",
     "text": [
      "請輸入升數：2\n",
      "東華加油站油錢 =  47.879999999999995\n",
      "志學加油站油錢 =  40.2\n",
      "東華每公升油價 =  23.939999999999998\n"
     ]
    },
    {
     "ename": "NameError",
     "evalue": "name 'bonus_zx' is not defined",
     "output_type": "error",
     "traceback": [
      "\u001b[1;31m---------------------------------------------------------------------------\u001b[0m",
      "\u001b[1;31mNameError\u001b[0m                                 Traceback (most recent call last)",
      "\u001b[1;32m<ipython-input-8-d6a62d2acf18>\u001b[0m in \u001b[0;36m<module>\u001b[1;34m\u001b[0m\n\u001b[0;32m     16\u001b[0m \u001b[0mprint\u001b[0m\u001b[1;33m(\u001b[0m\u001b[1;34m'志學加油站油錢 = '\u001b[0m\u001b[1;33m,\u001b[0m \u001b[0mzhixueh\u001b[0m\u001b[1;33m(\u001b[0m\u001b[0mliter\u001b[0m\u001b[1;33m)\u001b[0m\u001b[1;33m)\u001b[0m\u001b[1;33m\u001b[0m\u001b[1;33m\u001b[0m\u001b[0m\n\u001b[0;32m     17\u001b[0m \u001b[0mprint\u001b[0m\u001b[1;33m(\u001b[0m\u001b[1;34m'東華每公升油價 = '\u001b[0m\u001b[1;33m,\u001b[0m \u001b[0mprice_ndhu\u001b[0m\u001b[1;33m)\u001b[0m\u001b[1;33m\u001b[0m\u001b[1;33m\u001b[0m\u001b[0m\n\u001b[1;32m---> 18\u001b[1;33m \u001b[0mprint\u001b[0m\u001b[1;33m(\u001b[0m\u001b[1;34m'志學的回饋金 = '\u001b[0m\u001b[1;33m,\u001b[0m \u001b[0mbonus_zx\u001b[0m\u001b[1;33m)\u001b[0m \u001b[1;31m#會報錯，因為bonus_zx在離開zhixueh()後就不復存在\u001b[0m\u001b[1;33m\u001b[0m\u001b[1;33m\u001b[0m\u001b[0m\n\u001b[0m",
      "\u001b[1;31mNameError\u001b[0m: name 'bonus_zx' is not defined"
     ]
    }
   ],
   "source": [
    "# 【練習】台塑訂定全國油價為每公升P元，但東華加油站年終優惠定油價打95折，而志學則是自訂一個回饋機制給回饋金，回饋金計算為加油升數乘上0.1再加上10元，請寫一個程式幫忙算到這二加油站的油錢。\n",
    "price = 25.2 #P\n",
    "\n",
    "def ndhu(L): \n",
    "    global price_ndhu #price_ndhu首次出現，但被宣告為全域變數\n",
    "    price_ndhu = price*0.95 #price是出現在外部，且不是以參數傳遞傳入，所以是全域變數\n",
    "    return L*price_ndhu\n",
    "\n",
    "def zhixueh(L):\n",
    "    bonus_zx = L*0.1+10 #bonus_zx首次在此出現，所以是局部變數\n",
    "    return L*price-bonus_zx #price是出現在外部，且不是以參數傳遞傳入，所以是全域變數\n",
    "\n",
    "\n",
    "liter = int(input('請輸入升數：'))\n",
    "print('東華加油站油錢 = ', ndhu(liter))\n",
    "print('志學加油站油錢 = ', zhixueh(liter))\n",
    "print('東華每公升油價 = ', price_ndhu)\n",
    "print('志學的回饋金 = ', bonus_zx) #會報錯，因為bonus_zx在離開zhixueh()後就不復存在"
   ]
  },
  {
   "cell_type": "markdown",
   "metadata": {},
   "source": [
    "# 無名函數\n",
    "#lambda 參數1,參數2,...: 利用參數1、參數2,...計算的算式\n",
    "#不使用def，而是使用lambda來定義的無名函數\n",
    "\n",
    "#沒有指令區塊，取而代之的是一個算式（此算式可呼叫其他函數）\n",
    "#函數會回傳算式的計算結果，但不須用return。\n",
    "#可以將此函數指派給一個變數，然後以該變數來呼叫此函數。\n",
    "#通常用在只包含單行指令即可計算出結果的函數\n",
    "#不在其內使用print指令，因為print()不回傳任何資料（None）\n"
   ]
  },
  {
   "cell_type": "code",
   "execution_count": 9,
   "metadata": {},
   "outputs": [
    {
     "name": "stdout",
     "output_type": "stream",
     "text": [
      "應付油錢共 1182.0\n",
      "應付油錢共 1492.8\n"
     ]
    }
   ],
   "source": [
    "# 【練習】台塑訂定全國油價為每公升P元，但東華加油站年終優惠定油價打95折，再加上加油升數乘上0.1再加上10元的回饋金，請寫一個程式幫忙算到這個加油站的油錢。\n",
    "pay1 = lambda liter, price, discount:liter*price*discount\n",
    "bonus = lambda liter: liter*0.1+10\n",
    "ndhu_pay = lambda liter, price, discount:pay1(liter, price, discount)-bonus(liter)\n",
    "print('應付油錢共', ndhu_pay(50, 25.2, 0.95))\n",
    "print('應付油錢共', ndhu_pay(65, 25.8, 0.90))"
   ]
  },
  {
   "cell_type": "code",
   "execution_count": 11,
   "metadata": {},
   "outputs": [
    {
     "name": "stdout",
     "output_type": "stream",
     "text": [
      "請輸入二數四則算式：2+4\n",
      "6.0\n"
     ]
    }
   ],
   "source": [
    "# 【練習】請設計一個簡單的二數四則運算器。\n",
    "expr = input('請輸入二數四則算式：')\n",
    "if '+' in expr:\n",
    "    op = lambda x,y:x+y\n",
    "    a, b = expr.split('+')\n",
    "elif '-' in expr:\n",
    "    op = lambda x,y:x-y    \n",
    "    a, b = expr.split('-')\n",
    "elif '*' in expr:\n",
    "    op = lambda x,y:x*y\n",
    "    a, b = expr.split('*')\n",
    "elif '/' in expr:\n",
    "    op = lambda x,y:x/y\n",
    "    a, b = expr.split('/')\n",
    "print(op(float(a),float(b)))"
   ]
  },
  {
   "cell_type": "markdown",
   "metadata": {},
   "source": [
    "# 程式設計之各個擊破法\n",
    "#局部變數：在函數內部首次出現的變數，當函數結束後，此變數不復存在。\n",
    "#全域變數：當函數結束後，此變數依舊存在，且在函數中對其更動都會發生效用。全域變數有二種：\n",
    "#在函數外部已經出現過的變數且非以參數傳遞傳入的變數\n",
    "#或是在函數內部利用global指令宣告的變數"
   ]
  },
  {
   "cell_type": "code",
   "execution_count": 12,
   "metadata": {},
   "outputs": [
    {
     "name": "stdout",
     "output_type": "stream",
     "text": [
      "請輸入年份：2019\n",
      "請輸入月份：8\n",
      "該月第一天星期幾？4\n",
      "  Sun  Mon  Tue  Wed  Thu  Fri  Sat\n",
      "-------------------------------------\n",
      "                        1    2    3\n",
      "    4    5    6    7    8    9   10\n",
      "   11   12   13   14   15   16   17\n",
      "   18   19   20   21   22   23   24\n",
      "   25   26   27   28   29   30   31\n",
      "-------------------------------------\n"
     ]
    }
   ],
   "source": [
    "# 請設計函數，輸入某年某月以及該月第一天是星期幾後就可印出該月份的月曆。\n",
    "leap = lambda y: (y%4==0 and y%100!=0 or y%400==0)\n",
    "\n",
    "def monthdays(y, m):\n",
    "    if leap(y) and m==2:\n",
    "        return 29\n",
    "    elif not leap(y) and m==2:\n",
    "        return 28\n",
    "    elif m%2==0 and m<=7 or m%2==1 and m>7:\n",
    "        return 30\n",
    "    else:\n",
    "        return 31\n",
    "\n",
    "def print_header():\n",
    "    print('  Sun  Mon  Tue  Wed  Thu  Fri  Sat')\n",
    "    print('-------------------------------------')\n",
    "def print_leading_blanks(first_day):\n",
    "    print(' '*(first_day%7)*5, end='')\n",
    "    \n",
    "def print_body(first_day, days):\n",
    "    k = first_day+1\n",
    "    for d in range(1,days+1):\n",
    "        print('%5d'%d, end='')\n",
    "        if (k)%7==0 and d!=days:\n",
    "            print()\n",
    "        k = (k+1)%7\n",
    "def print_footer():\n",
    "    print('\\n-------------------------------------')\n",
    "    \n",
    "def print_calendar(y, m, first_day):\n",
    "    print_header()\n",
    "    print_leading_blanks(first_day)\n",
    "    print_body(first_day, monthdays(y,m))\n",
    "    print_footer()\n",
    "    \n",
    "y = int(input('請輸入年份：'))\n",
    "m = int(input('請輸入月份：'))\n",
    "w = int(input('該月第一天星期幾？'))\n",
    "print_calendar(y, m, w)"
   ]
  },
  {
   "cell_type": "code",
   "execution_count": null,
   "metadata": {},
   "outputs": [],
   "source": []
  }
 ],
 "metadata": {
  "kernelspec": {
   "display_name": "Python 3",
   "language": "python",
   "name": "python3"
  },
  "language_info": {
   "codemirror_mode": {
    "name": "ipython",
    "version": 3
   },
   "file_extension": ".py",
   "mimetype": "text/x-python",
   "name": "python",
   "nbconvert_exporter": "python",
   "pygments_lexer": "ipython3",
   "version": "3.7.3"
  }
 },
 "nbformat": 4,
 "nbformat_minor": 2
}
