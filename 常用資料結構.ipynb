{
 "cells": [
  {
   "cell_type": "markdown",
   "metadata": {},
   "source": [
    "# 資料串列\n",
    "#[ 資料元素1, 資料元素2, ..., 資料元素N ]\n",
    "#資料元素可以是各種資料型態。\n",
    "#可利用索引[n]取出單一元素或[a:b:c]截取出片段元素\n",
    "#資料元素可以變動(變更、新增、刪除)"
   ]
  },
  {
   "cell_type": "code",
   "execution_count": 1,
   "metadata": {},
   "outputs": [
    {
     "name": "stdout",
     "output_type": "stream",
     "text": [
      "==================================================\n",
      "課程名稱：中級程式設計\n",
      "授課教師：CCC\n",
      "修課人數：99\n",
      "必修：True\n",
      "單元1：指令介紹\n",
      "單元2：應用設計\n",
      "==================================================\n",
      "==================================================\n",
      "課程名稱：中級程式設計\n",
      "授課教師：DDD\n",
      "修課人數：99\n",
      "必修：False\n",
      "單元1：指令介紹\n",
      "單元2：應用設計\n",
      "單元3：專案開發\n",
      "==================================================\n"
     ]
    }
   ],
   "source": [
    "# 【練習】中級程式設計班級有99位同學，授課老師是CCC老師，此課程是必修課，內容有二大部分，分別是指令介紹和應用設計。請以一個串列表示這個課程資料。然後假設如果教務處公告說課程老師要更改為DDD老師，且內容加碼第三單元為專案開發，然後此課程改為選修，請使用適當指令做此變更。\n",
    "# 課程資料輸出函數\n",
    "def show_course(course):\n",
    "    print('='*50)\n",
    "    print('課程名稱：%s\\n授課教師：%s\\n修課人數：%d\\n必修：%s'%(course[0], course[2], course[1], course[3]))\n",
    "    content = course[4]\n",
    "    for i, unit in enumerate(content):\n",
    "        print('單元%d：%s'%(i+1,unit))\n",
    "    print('='*50)\n",
    "    \n",
    "c = ['中級程式設計', 99, 'CCC', True, ['指令介紹', '應用設計']]\n",
    "# 以下開始更動課程資料\n",
    "show_course(c)\n",
    "c[2] = 'DDD'\n",
    "c[3] = False\n",
    "c[4].append('專案開發') #串列附加尾端元素\n",
    "show_course(c)"
   ]
  },
  {
   "cell_type": "markdown",
   "metadata": {},
   "source": [
    "# 《請注意》 串列索引\n",
    "從0開始 "
   ]
  },
  {
   "cell_type": "markdown",
   "metadata": {},
   "source": [
    "# 《請注意》 巢狀串列\n",
    "#串列中包含串列\n",
    "#可用於儲存複合元素資料，例如課程資料本身有多種屬性資料元素，所以可用串列儲存之，而授課內容就是其中一個元素，但是授課內容本身又會包含多個單\n",
    "#元，因此也可用一個串列來儲存，所以形成串列中有串列的狀況。\n",
    "#存取二層巢狀串列需用二個索引 "
   ]
  },
  {
   "cell_type": "code",
   "execution_count": 2,
   "metadata": {},
   "outputs": [
    {
     "name": "stdout",
     "output_type": "stream",
     "text": [
      "指令介紹 應用設計\n"
     ]
    }
   ],
   "source": [
    "c = ['中級程式設計', 99, 'CCC', True, ['指令介紹', '應用設計']]\n",
    "print(c[4][0], c[4][1])"
   ]
  },
  {
   "cell_type": "markdown",
   "metadata": {},
   "source": [
    "# 《請注意》 enumerate(串列)\n",
    "幫串列中的每個元素加上序號(從0開始)。"
   ]
  },
  {
   "cell_type": "code",
   "execution_count": 3,
   "metadata": {},
   "outputs": [
    {
     "name": "stdout",
     "output_type": "stream",
     "text": [
      "[(0, 10), (1, 30), (2, 50)]\n"
     ]
    }
   ],
   "source": [
    "a = list(enumerate([10,30,50]))\n",
    "print(a)"
   ]
  },
  {
   "cell_type": "markdown",
   "metadata": {},
   "source": [
    "# 資料串列元素截取\n",
    "#datalist[a:b]：從第a個元素取到第b-1個（第b個的前一個）元素\n",
    "#datalist[a:b:c]：從第a個元素每隔c個字取一個元素，一直取到第b-1（不超過b-1）個元素為止\n",
    "#datalist[-a:-b]：從倒數第a個元素取到倒數第b+1個（倒數第b個的前一個）元素\n",
    "#datalist[::-1]：反轉datalist"
   ]
  },
  {
   "cell_type": "code",
   "execution_count": 4,
   "metadata": {},
   "outputs": [
    {
     "name": "stdout",
     "output_type": "stream",
     "text": [
      "課程創建前========\n",
      "==================================================\n",
      "課程名稱：中級程式設計\n",
      "授課教師：CCC\n",
      "修課人數：99\n",
      "必修：True\n",
      "單元1：指令介紹\n",
      "單元2：應用設計\n",
      "==================================================\n",
      "課程創建後========\n",
      "==================================================\n",
      "課程名稱：中級程式設計\n",
      "授課教師：AAA\n",
      "修課人數：99\n",
      "必修：False\n",
      "單元1：應用設計\n",
      "單元2：指令介紹\n",
      "==================================================\n",
      "==================================================\n",
      "課程名稱：中級程式設計\n",
      "授課教師：AAA\n",
      "修課人數：99\n",
      "必修：False\n",
      "單元1：應用設計\n",
      "單元2：指令介紹\n",
      "==================================================\n"
     ]
    }
   ],
   "source": [
    "# 【練習】AAA老師在新學期也想開設一個中級程式設計班，他的授課內容與CCC老師完全相同，但是順序相反。請寫出指令來完成這個新班級的創建。\n",
    "#錯誤示範版本\n",
    "\n",
    "def show_course(course):\n",
    "    print('='*50)\n",
    "    print('課程名稱：%s\\n授課教師：%s\\n修課人數：%d\\n必修：%s'%(course[0], course[2], course[1], course[3]))\n",
    "    content = course[4]\n",
    "    for i, unit in enumerate(content):\n",
    "        print('單元%d：%s'%(i+1,unit))\n",
    "    print('='*50)\n",
    "    \n",
    "ccc = ['中級程式設計', 99, 'CCC', True, ['指令介紹', '應用設計']]\n",
    "print('課程創建前========')\n",
    "show_course(ccc)\n",
    "aaa = ccc #課程資料指派\n",
    "# 以下開始更動課程資料\n",
    "aaa[2] = 'AAA'\n",
    "aaa[3] = False\n",
    "aaa[4] = aaa[4][::-1] #串列附加尾端元素\n",
    "print('課程創建後========')\n",
    "show_course(aaa)\n",
    "show_course(ccc)\n",
    "### 會有問題發生：原來的CCC課程資料在創建中也被改了！！！"
   ]
  },
  {
   "cell_type": "code",
   "execution_count": 5,
   "metadata": {},
   "outputs": [
    {
     "name": "stdout",
     "output_type": "stream",
     "text": [
      "課程創建前========\n",
      "==================================================\n",
      "課程名稱：中級程式設計\n",
      "授課教師：CCC\n",
      "修課人數：99\n",
      "必修：True\n",
      "單元1：指令介紹\n",
      "單元2：應用設計\n",
      "==================================================\n",
      "課程創建後========\n",
      "==================================================\n",
      "課程名稱：中級程式設計\n",
      "授課教師：AAA\n",
      "修課人數：99\n",
      "必修：False\n",
      "單元1：應用設計\n",
      "單元2：指令介紹\n",
      "==================================================\n",
      "==================================================\n",
      "課程名稱：中級程式設計\n",
      "授課教師：CCC\n",
      "修課人數：99\n",
      "必修：True\n",
      "單元1：指令介紹\n",
      "單元2：應用設計\n",
      "==================================================\n"
     ]
    }
   ],
   "source": [
    "#正確示範版本\n",
    "\n",
    "def show_course(course):\n",
    "    print('='*50)\n",
    "    print('課程名稱：%s\\n授課教師：%s\\n修課人數：%d\\n必修：%s'%(course[0], course[2], course[1], course[3]))\n",
    "    content = course[4]\n",
    "    for i, unit in enumerate(content):\n",
    "        print('單元%d：%s'%(i+1,unit))\n",
    "    print('='*50)\n",
    "    \n",
    "ccc = ['中級程式設計', 99, 'CCC', True, ['指令介紹', '應用設計']]\n",
    "print('課程創建前========')\n",
    "show_course(ccc)\n",
    "aaa = ccc.copy() #課程資料複製\n",
    "# 以下開始更動課程資料\n",
    "aaa[2] = 'AAA'\n",
    "aaa[3] = False\n",
    "aaa[4] = aaa[4][::-1] #串列附加尾端元素\n",
    "print('課程創建後========')\n",
    "show_course(aaa)\n",
    "show_course(ccc)\n",
    "### 會有問題發生：原來的DDD課程資料在創建中也被改了！！！"
   ]
  },
  {
   "cell_type": "markdown",
   "metadata": {},
   "source": [
    "# 常用資料串列操作函數\n",
    "#len(L)：取得串列L的長度\n",
    "#+：L1 + L2表示將二串列L1和L2串接起來\n",
    "#L1.extend(L2)：同 L1+L2\n",
    "#字串串列.join()：將字串串列中所有字串串接起來\n",
    "#d in L：資料元素d是否有出現在串列L中(有:True，否：False)\n",
    "#L.index(d)：找出d首次出現在串列L中的位置，如果未出現則報錯\n",
    "#L.index(d, n)：從第n個元素開始，找出d首次出現在串列L中的位置，如果未出現則報錯\n",
    "#L.sort()：對串列L排序(就地排序)\n",
    "#sorted(L)：傳回對串列L排序後的新串列(L元素順序不變)\n",
    "#del L[n]：刪除串列L中的第n+1個元素\n",
    "#L.remove(d):將d從L中刪除\n",
    "#L.clear()：清空串列L\n",
    "#L.insert(n, d)：將d插入L中的第n+1個位置\n",
    "#L.count(d)：傳回d出現在L中的次數\n",
    "#L.pop(n)：從串列L中取出第n+1個元素，取出後將其移除。若不指定n，則取出最後一個元素，並移除之。"
   ]
  },
  {
   "cell_type": "code",
   "execution_count": 6,
   "metadata": {},
   "outputs": [
    {
     "name": "stdout",
     "output_type": "stream",
     "text": [
      "[['CCC', 60], ['BBB', 52], ['AAA', 50], ['JJJ', 48], ['III', 44]]\n"
     ]
    }
   ],
   "source": [
    "# 【練習】有一個班級的人名與英文成績資料如下： AAA, 50, BBB, 52, CCC, 60, DDD, 83, EEE, 67, FFF, 81, GGG, 68, HHH, 75, III, 44, JJJ, 39 請找出所有低於平均分數的同學姓名，並將他們的成績由大而小排出。\n",
    "#先排序再搜尋解法\n",
    "\n",
    "data = ['AAA', 50, 'BBB', 52, 'CCC', 60, 'DDD', 83, 'EEE', 67, 'FFF', 81, 'GGG', 68, 'HHH', 75, 'III', 44, 'JJJ', 48]\n",
    "names = data[0::2]\n",
    "scores = data[1::2]\n",
    "avg = sum(scores)/len(scores)\n",
    "below_scores = []\n",
    "for s in scores:\n",
    "    if s<avg:\n",
    "        below_scores.append(s)\n",
    "below_scores.sort(reverse=True)\n",
    "sorted_scores = []\n",
    "for s in below_scores:\n",
    "    pos = scores.index(s)\n",
    "    sorted_scores.append([names[pos], s])\n",
    "    del scores[pos]\n",
    "    del names[pos]\n",
    "print(sorted_scores)"
   ]
  },
  {
   "cell_type": "code",
   "execution_count": 7,
   "metadata": {},
   "outputs": [
    {
     "name": "stdout",
     "output_type": "stream",
     "text": [
      "[['AAA', 50]]\n",
      "[['BBB', 52], ['AAA', 50]]\n",
      "[['CCC', 60], ['BBB', 52], ['AAA', 50]]\n",
      "[['CCC', 60], ['BBB', 52], ['AAA', 50], ['III', 44]]\n",
      "[['CCC', 60], ['BBB', 52], ['AAA', 50], ['JJJ', 48], ['III', 44]]\n",
      "[['CCC', 60], ['BBB', 52], ['AAA', 50], ['JJJ', 48], ['III', 44]]\n"
     ]
    }
   ],
   "source": [
    "#插入排序解法\n",
    "\n",
    "data = ['AAA', 50, 'BBB', 52, 'CCC', 60, 'DDD', 83, 'EEE', 67, 'FFF', 81, 'GGG', 68, 'HHH', 75, 'III', 44, 'JJJ', 48]\n",
    "names = data[0::2]\n",
    "scores = data[1::2]\n",
    "avg = sum(scores)/len(scores)\n",
    "below_scores = []\n",
    "for i, s in enumerate(scores):\n",
    "    if s<avg:\n",
    "        below_scores.append([names[i], s])\n",
    "sorted_scores = [below_scores[0]]\n",
    "print(sorted_scores)\n",
    "for s in range(1, len(below_scores)):\n",
    "    student = below_scores[s]\n",
    "    l = len(sorted_scores)-1\n",
    "    while l>=0 and student[1]>sorted_scores[l][1]:\n",
    "        l -= 1\n",
    "    sorted_scores.insert(l+1, student)\n",
    "    print(sorted_scores)\n",
    "print(sorted_scores)"
   ]
  },
  {
   "cell_type": "code",
   "execution_count": 8,
   "metadata": {},
   "outputs": [
    {
     "name": "stdout",
     "output_type": "stream",
     "text": [
      "平均分數 = 62.8\n",
      "[['AAA', 50], ['BBB', 52], ['CCC', 60], ['III', 44], ['JJJ', 48]]\n",
      "[['BBB', 52], ['AAA', 50], ['CCC', 60], ['III', 44], ['JJJ', 48]]\n",
      "[['BBB', 52], ['CCC', 60], ['AAA', 50], ['III', 44], ['JJJ', 48]]\n",
      "[['BBB', 52], ['CCC', 60], ['AAA', 50], ['III', 44], ['JJJ', 48]]\n",
      "[['BBB', 52], ['CCC', 60], ['AAA', 50], ['JJJ', 48], ['III', 44]]\n",
      "[['CCC', 60], ['BBB', 52], ['AAA', 50], ['JJJ', 48], ['III', 44]]\n",
      "[['CCC', 60], ['BBB', 52], ['AAA', 50], ['JJJ', 48], ['III', 44]]\n",
      "[['CCC', 60], ['BBB', 52], ['AAA', 50], ['JJJ', 48], ['III', 44]]\n",
      "[['CCC', 60], ['BBB', 52], ['AAA', 50], ['JJJ', 48], ['III', 44]]\n",
      "[['CCC', 60], ['BBB', 52], ['AAA', 50], ['JJJ', 48], ['III', 44]]\n",
      "[['CCC', 60], ['BBB', 52], ['AAA', 50], ['JJJ', 48], ['III', 44]]\n",
      "[['CCC', 60], ['BBB', 52], ['AAA', 50], ['JJJ', 48], ['III', 44]]\n"
     ]
    }
   ],
   "source": [
    "#泡沫排序解法\n",
    "\n",
    "data = ['AAA', 50, 'BBB', 52, 'CCC', 60, 'DDD', 83, 'EEE', 67, 'FFF', 81, 'GGG', 68, 'HHH', 75, 'III', 44, 'JJJ', 48]\n",
    "new_data = []\n",
    "for i in range(0, len(data), 2):\n",
    "    new_data += [[data[i], data[i+1]]]\n",
    "avg = sum(data[1::2])/len(data[1::2])\n",
    "print('平均分數 =', avg)\n",
    "below_avg = []\n",
    "for d in new_data:\n",
    "    if d[1]<avg:\n",
    "        below_avg.append(d)\n",
    "print(below_avg)\n",
    "\n",
    "# 開始泡沫排序法\n",
    "n = len(below_avg)\n",
    "for i in range(n):\n",
    "    for j in range(0, n-i-1):\n",
    "        if below_avg[j][1]<below_avg[j+1][1]:\n",
    "            below_avg[j], below_avg[j+1] = below_avg[j+1], below_avg[j]\n",
    "        print(below_avg)\n",
    "print(below_avg)"
   ]
  },
  {
   "cell_type": "code",
   "execution_count": 9,
   "metadata": {},
   "outputs": [
    {
     "name": "stdout",
     "output_type": "stream",
     "text": [
      "['AAA', 'BBB', 'CCC', 'DDD', 'EEE', 'FFF']\n"
     ]
    }
   ],
   "source": [
    "# 【練習】中級程式設計選課系統出了點問題，名單中出現了重複的人名，請寫一個程式把重複的人名移除，只留下其中的一個即可。 資料如下： ['AAA', 'BBB', 'CCC', 'DDD', 'CCC', 'EEE', 'BBB', 'CCC','AAA','FFF']\n",
    "names = ['AAA', 'BBB', 'CCC', 'DDD', 'CCC', 'EEE', 'BBB', 'CCC','AAA','FFF']\n",
    "correct_names = []\n",
    "for n in names:\n",
    "    if n not in correct_names:\n",
    "        correct_names.append(n)\n",
    "print(correct_names)"
   ]
  },
  {
   "cell_type": "markdown",
   "metadata": {},
   "source": [
    "# 集合\n",
    "#{ 資料元素1, 資料元素2, ..., 資料元素N }\n",
    "#集合與串列類似，可以放入多重資料\n",
    "#集合與串列不同處\n",
    "#集合中的元素不可重複\n",
    "#集合中的元素不可修改\n",
    "#集合中的元素無順序(所以不能使用索引)\n",
    "#集合常用運算：\n",
    "#聯集：|\n",
    "#交集：&\n",
    "#差集：-\n",
    "#包含：>=(回傳True或False)\n",
    "#包含於：<=(回傳True或False)\n",
    "#串列與集合互轉：\n",
    "#list(集合)->串列\n",
    "#set(串列)->集合"
   ]
  },
  {
   "cell_type": "code",
   "execution_count": 11,
   "metadata": {},
   "outputs": [
    {
     "name": "stdout",
     "output_type": "stream",
     "text": [
      "二班全修的學生為： AAA CCC \n",
      "修CCC班但沒修DDD班的學生為： DDD EEE BBB JJJ \n",
      "修DDD班但沒修CCC班的學生為： GGG HHH III FFF \n",
      "修CCC或DDD二班學生為： AAA CCC DDD JJJ III EEE GGG BBB HHH FFF \n"
     ]
    }
   ],
   "source": [
    "# 【練習】CCC老師和DDD老師的二課程班級名單如下，資料如下：\n",
    "CCC=['AAA', 'BBB', 'DDD', 'CCC', 'EEE', 'JJJ']\n",
    "DDD=['CCC', 'FFF', 'AAA', 'GGG', 'HHH', 'III']\n",
    "# 請寫程式分別找出二班全修、修CCC沒修DDD、修DDD沒修CCC、修二班所有的學生。\n",
    "\n",
    "CCC=['AAA', 'BBB', 'DDD', 'CCC', 'EEE', 'JJJ']\n",
    "DDD=['CCC', 'FFF', 'AAA', 'GGG', 'HHH', 'III']\n",
    "CCC_set = set(CCC)\n",
    "DDD_set = set(DDD)\n",
    "common = CCC_set & DDD_set\n",
    "diff1 = CCC_set - DDD_set #修CCC沒修DDD\n",
    "diff2 = DDD_set - CCC_set #修DDD沒修CCC\n",
    "both = CCC_set | DDD_set\n",
    "print('二班全修的學生為：', end=' ')\n",
    "for n in common:\n",
    "    print(n, end=' ')\n",
    "print()\n",
    "print('修CCC班但沒修DDD班的學生為：', end=' ')\n",
    "for n in diff1:\n",
    "    print(n, end=' ')\n",
    "print()\n",
    "print('修DDD班但沒修CCC班的學生為：', end=' ')\n",
    "for n in diff2:\n",
    "    print(n, end=' ')\n",
    "print()\n",
    "print('修CCC或DDD二班學生為：', end=' ')\n",
    "for n in both:\n",
    "    print(n, end=' ')\n",
    "print()"
   ]
  },
  {
   "cell_type": "code",
   "execution_count": 12,
   "metadata": {},
   "outputs": [
    {
     "name": "stdout",
     "output_type": "stream",
     "text": [
      "CCC DDD YYY JJJ EEE XXX BBB \n"
     ]
    }
   ],
   "source": [
    "# 【練習】承上題，若要把'XXX', 'YYY'二位同學加選進CCC班，然後把AAA從CCC班中退選，該如何處理？\n",
    "CCC = {'AAA', 'BBB', 'DDD', 'CCC', 'EEE', 'JJJ'}\n",
    "CCC |= {'XXX', 'YYY'}\n",
    "CCC -= {'AAA'}\n",
    "for n in CCC:\n",
    "    print(n, end=' ')\n",
    "print()"
   ]
  },
  {
   "cell_type": "markdown",
   "metadata": {},
   "source": [
    "# 字典\n",
    "#{ 鍵1:值1, 鍵2:值2, ..., 鍵N:值N }\n"
   ]
  },
  {
   "cell_type": "markdown",
   "metadata": {},
   "source": [
    "#字典與串列類似，可以放入多重資料\n",
    "#鍵和值均可以為任意資料型態\n",
    "#字典與串列不同處\n",
    "    #字典中的索引需為鍵值，否則會KeyError\n",
    "    #同一字典中不可有多筆資料使用相同鍵\n",
    "    #不同作業系統中，字典的元素順序可能會有所不同\n",
    "#串列與集合轉換：\n",
    "    #list(字典)->鍵串列\n",
    "    #串列無法直接轉字典\n",
    "#取鍵函數、取值函數、取項目函數\n",
    "    #字典.keys()：取出所有鍵形成序列(可使用list(字典.keys())傳回值串列)\n",
    "    #字典.values()：取出所有值形成序列(可使用list(字典.values())傳回值串列)\n",
    "    #字典.items()：取出所有(鍵,值)形成序列(可使用list(字典.items())傳回(鍵,值)串列)\n",
    "    "
   ]
  },
  {
   "cell_type": "code",
   "execution_count": 13,
   "metadata": {},
   "outputs": [
    {
     "name": "stdout",
     "output_type": "stream",
     "text": [
      "併入鍵為1的字典項目\n",
      "併入鍵為2的字典項目\n",
      "得到 {1: 'AAA', 2: 'BBB'}\n",
      "併入鍵為2的字典項目\n",
      "併入鍵為4的字典項目\n",
      "得到 {1: 'AAA', 2: 'CCC', 4: 'DDD'}\n",
      "併入鍵為5的字典項目\n",
      "併入鍵為4的字典項目\n",
      "得到 {1: 'AAA', 2: 'CCC', 4: 'FFF', 5: 'EEE'}\n"
     ]
    }
   ],
   "source": [
    "# 【練習】有三個集團的總裁和副總裁的考績等級和姓名建立為三個字典如下：\n",
    "group1 = {1:'AAA', 2:'BBB'}\n",
    "group2 = {3:'CCC', 4:'DDD'}\n",
    "group3 = {5:'EEE', 4:'FFF'}\n",
    "# 請將它們合併，合併時若考績等級一樣則以group3、group2、group1的優先順序併入時予以置換。\n",
    "\n",
    "group1 = {1:'AAA', 2:'BBB'}\n",
    "group2 = {2:'CCC', 4:'DDD'}\n",
    "group3 = {5:'EEE', 4:'FFF'}\n",
    "combined_group = {}\n",
    "for key in group1:\n",
    "    print('併入鍵為%d的字典項目'%key)\n",
    "    combined_group[key] = group1[key] #新增資料項目 key:group1[key]\n",
    "print('得到', combined_group)\n",
    "for key in group2:\n",
    "    print('併入鍵為%d的字典項目'%key)\n",
    "    combined_group[key] = group2[key]#新增資料項目 key:group2[key]\n",
    "print('得到', combined_group)\n",
    "for key in group3:\n",
    "    print('併入鍵為%d的字典項目'%key)\n",
    "    combined_group[key] = group3[key]#新增資料項目 key:group2[key]\n",
    "print('得到', combined_group)"
   ]
  },
  {
   "cell_type": "code",
   "execution_count": 14,
   "metadata": {},
   "outputs": [
    {
     "name": "stdout",
     "output_type": "stream",
     "text": [
      "併入鍵為1的字典項目\n",
      "併入鍵為2的字典項目\n",
      "得到 {1: 'AAA', 2: 'BBB'}\n",
      "併入鍵為2的字典項目\n",
      "併入鍵為4的字典項目\n",
      "得到 {1: 'AAA', 2: 'CCC', 4: 'DDD'}\n",
      "併入鍵為5的字典項目\n",
      "併入鍵為4的字典項目\n",
      "得到 {1: 'AAA', 2: 'CCC', 4: 'FFF', 5: 'EEE'}\n"
     ]
    }
   ],
   "source": [
    "group1 = {1:'AAA', 2:'BBB'}\n",
    "group2 = {2:'CCC', 4:'DDD'}\n",
    "group3 = {5:'EEE', 4:'FFF'}\n",
    "combined_group = {}\n",
    "for key, value in group1.items():\n",
    "    print('併入鍵為%d的字典項目'%key)\n",
    "    combined_group[key] = value\n",
    "print('得到', combined_group)\n",
    "for key, value in group2.items():\n",
    "    print('併入鍵為%d的字典項目'%key)\n",
    "    combined_group[key] = value\n",
    "print('得到', combined_group)\n",
    "for key, value in group3.items():\n",
    "    print('併入鍵為%d的字典項目'%key)\n",
    "    combined_group[key] = value\n",
    "print('得到', combined_group)"
   ]
  },
  {
   "cell_type": "markdown",
   "metadata": {},
   "source": [
    "# 字典常用操作\n",
    "#D.get(key)：取得字典D中對應於key的值，若無key這個鍵值，則傳回None，不會報錯(若是用D[key]而key不存在於D中，則會報錯)。\n",
    "#len(D)：傳回字典D中的資料項目個數。\n",
    "#del D[key]：移除字典D中對應於key這個鍵值的資料項目。\n",
    "#D1.update(D2)：將字典D1和字典D2內容合併。"
   ]
  },
  {
   "cell_type": "code",
   "execution_count": 16,
   "metadata": {},
   "outputs": [
    {
     "name": "stdout",
     "output_type": "stream",
     "text": [
      "併入字典： {1: 'AAA', 2: 'BBB'}\n",
      "得到 {1: 'AAA', 2: 'BBB'}\n",
      "併入字典： {2: 'CCC', 4: 'DDD'}\n",
      "得到 {1: 'AAA', 2: 'CCC', 4: 'DDD'}\n",
      "併入字典： {5: 'EEE', 4: 'FFF'}\n",
      "得到 {1: 'AAA', 2: 'CCC', 4: 'FFF', 5: 'EEE'}\n"
     ]
    }
   ],
   "source": [
    "# 【練習】有三個集團的總裁和副總裁的考績等級和姓名建立為三個字典如下：\n",
    "group1 = {1:'AAA', 2:'BBB'}\n",
    "group2 = {3:'CCC', 4:'DDD'}\n",
    "group3 = {5:'EEE', 4:'FFF'}\n",
    "# 請將它們合併，合併時若考績等級一樣則以group3、group2、group1的優先順序併入時予以置換。\n",
    "\n",
    "group1 = {1:'AAA', 2:'BBB'}\n",
    "group2 = {2:'CCC', 4:'DDD'}\n",
    "group3 = {5:'EEE', 4:'FFF'}\n",
    "combined_group = {}\n",
    "for d in [group1, group2, group3]:\n",
    "    print('併入字典：', d)\n",
    "    combined_group.update(d) #併入字典d並更新\n",
    "    print('得到', combined_group)"
   ]
  },
  {
   "cell_type": "code",
   "execution_count": 17,
   "metadata": {},
   "outputs": [
    {
     "name": "stdout",
     "output_type": "stream",
     "text": [
      "哥：4\n",
      "爸：4\n",
      "真：1\n",
      "偉：1\n",
      "大：3\n",
      "名：1\n",
      "譽：1\n",
      "照：1\n",
      "我：3\n",
      "家：2\n",
      "為：1\n",
      "國：1\n",
      "去：1\n",
      "打：1\n",
      "仗：1\n",
      "當：1\n",
      "兵：1\n",
      "笑：1\n",
      "哈：2\n",
      "走：2\n",
      "吧：2\n",
      "事：1\n",
      "不：1\n",
      "用：1\n",
      "你：1\n",
      "牽：1\n",
      "掛：1\n",
      "只：2\n",
      "要：2\n",
      "長：2\n"
     ]
    }
   ],
   "source": [
    "# 【練習】給你一段歌詞如下：\n",
    "# 哥哥爸爸真偉大　名譽照我家\n",
    "# 為國去打仗　當兵笑哈哈\n",
    "# 走吧走吧哥哥爸爸　家事不用你牽掛\n",
    "# 只要我長大　只要我長大\n",
    "# 請統計其中出現過的中文字及其次數。\n",
    "\n",
    "text = '''\n",
    "哥哥爸爸真偉大　名譽照我家\n",
    "為國去打仗　當兵笑哈哈\n",
    "走吧走吧哥哥爸爸　家事不用你牽掛\n",
    "只要我長大　只要我長大\n",
    "'''\n",
    "dic = {}\n",
    "for c in text:\n",
    "    if 19968<=ord(c)<=40860:\n",
    "        if c in dic.keys():\n",
    "            dic[c] += 1\n",
    "        else:\n",
    "            dic[c] = 1\n",
    "for c, count in dic.items():\n",
    "    print('%s：%d'%(c, count))"
   ]
  },
  {
   "cell_type": "code",
   "execution_count": 18,
   "metadata": {},
   "outputs": [
    {
     "name": "stdout",
     "output_type": "stream",
     "text": [
      "比對後二人共同興趣資料如下：\n",
      "John: {'看電影': 4, '閱讀': 1}\n",
      "Mary: {'看電影': 5, '閱讀': 3}\n",
      "二人速配分數 = 5\n"
     ]
    }
   ],
   "source": [
    "# 【練習】Mary和John二人參加電腦配對相親，二人所填的興趣與興趣的喜愛度資料如下：\n",
    "mary = {'看電影':5, '唱歌':4, '閱讀':3}\n",
    "john = {'看電影':5, '閱讀':1, '跑步':4}\n",
    "# 請將二人的興趣資料配對，算出共同興趣的分數(每項相同興趣得分為取二者喜愛度較小值，然後將所有相同興趣的得分加總)，並且將二人非共同興趣的部分移除。\n",
    "\n",
    "mary = {'看電影':5, '唱歌':4, '閱讀':3}\n",
    "john = {'看電影':4, '閱讀':1, '跑步':4}\n",
    "mary_habits = list(mary.keys())\n",
    "john_habits = list(john.keys())\n",
    "for key in mary_habits:\n",
    "    if john.get(key)==None:\n",
    "        del mary[key]\n",
    "for key in john_habits:\n",
    "    if mary.get(key)==None:\n",
    "        del john[key]\n",
    "print('比對後二人共同興趣資料如下：')\n",
    "print('John:', john)\n",
    "print('Mary:', mary)\n",
    "score = 0\n",
    "for k in john:\n",
    "    score += min(john[k], mary[k])\n",
    "print('二人速配分數 =', score)"
   ]
  },
  {
   "cell_type": "markdown",
   "metadata": {},
   "source": [
    "# 字典排序\n",
    "#使用operator套件\n",
    "#需用到operator.itemgetter()資料提取函數\n",
    "#使用sorted函數\n",
    "#sorted(序列或巢狀序列, key=operator.itemgetter(排序鍵在串列元素中的索引或鍵名))"
   ]
  },
  {
   "cell_type": "code",
   "execution_count": 19,
   "metadata": {},
   "outputs": [
    {
     "name": "stdout",
     "output_type": "stream",
     "text": [
      "原始字典資料： {2: 'AAA', 1: 'BBB', 5: 'CCC', 4: 'DDD', 3: 'EEE'}\n",
      "字典項目序列： dict_items([(2, 'AAA'), (1, 'BBB'), (5, 'CCC'), (4, 'DDD'), (3, 'EEE')])\n",
      "字典項目序列元素如下：\n",
      "\t索引0->2， 索引1->AAA\n",
      "\t索引0->1， 索引1->BBB\n",
      "\t索引0->5， 索引1->CCC\n",
      "\t索引0->4， 索引1->DDD\n",
      "\t索引0->3， 索引1->EEE\n",
      "以學號排序： [(1, 'BBB'), (2, 'AAA'), (3, 'EEE'), (4, 'DDD'), (5, 'CCC')]\n",
      "以姓名排序： [(2, 'AAA'), (1, 'BBB'), (5, 'CCC'), (4, 'DDD'), (3, 'EEE')]\n"
     ]
    }
   ],
   "source": [
    "# 練習】某程式設計班中同學的學號姓名資料建立為一字典如下：\n",
    "# ccc_class = {2:'BBB', 1:'AAA', 5:'EEE', 4:'DDD', 3:'CCC'}\n",
    "# 請分別依據學號和姓名的遞增順序輸出同學們的資料。\n",
    "\n",
    "import operator\n",
    "ccc_class = {2:'AAA', 1:'BBB', 5:'CCC', 4:'DDD', 3:'EEE'}\n",
    "print('原始字典資料：',ccc_class)\n",
    "print('字典項目序列：',ccc_class.items()) #巢狀序列\n",
    "print('字典項目序列元素如下：')\n",
    "for d in ccc_class.items():\n",
    "    print('\\t索引0->%d， 索引1->%s'%(d[0], d[1]))\n",
    "sorted_by_id = sorted(ccc_class.items(), key=operator.itemgetter(0)) #學號在序列元素中索引為0\n",
    "print('以學號排序：',sorted_by_id)\n",
    "sorted_by_name = sorted(ccc_class.items(), key=operator.itemgetter(1)) #姓名在序列元素中索引為0\n",
    "print('以姓名排序：',sorted_by_name)"
   ]
  },
  {
   "cell_type": "code",
   "execution_count": 20,
   "metadata": {},
   "outputs": [
    {
     "name": "stdout",
     "output_type": "stream",
     "text": [
      "以年齡排序：\n",
      "==================================================\n",
      "{'age': 16, 'city': 'london', 'name': 'zoe'}\n",
      "{'age': 16, 'city': 'rio', 'name': 'cathy'}\n",
      "{'age': 31, 'city': 'taipei', 'name': 'amy'}\n",
      "{'age': 48, 'city': 'frankfurt', 'name': 'david'}\n",
      "{'age': 71, 'city': 'tokyo', 'name': 'john'}\n",
      "以姓名排序：\n",
      "==================================================\n",
      "{'age': 31, 'city': 'taipei', 'name': 'amy'}\n",
      "{'age': 16, 'city': 'rio', 'name': 'cathy'}\n",
      "{'age': 48, 'city': 'frankfurt', 'name': 'david'}\n",
      "{'age': 71, 'city': 'tokyo', 'name': 'john'}\n",
      "{'age': 16, 'city': 'london', 'name': 'zoe'}\n",
      "以住處排序：\n",
      "==================================================\n",
      "{'age': 48, 'city': 'frankfurt', 'name': 'david'}\n",
      "{'age': 16, 'city': 'london', 'name': 'zoe'}\n",
      "{'age': 16, 'city': 'rio', 'name': 'cathy'}\n",
      "{'age': 31, 'city': 'taipei', 'name': 'amy'}\n",
      "{'age': 71, 'city': 'tokyo', 'name': 'john'}\n",
      "以先年齡後姓名排序：\n",
      "==================================================\n",
      "{'age': 16, 'city': 'rio', 'name': 'cathy'}\n",
      "{'age': 16, 'city': 'london', 'name': 'zoe'}\n",
      "{'age': 31, 'city': 'taipei', 'name': 'amy'}\n",
      "{'age': 48, 'city': 'frankfurt', 'name': 'david'}\n",
      "{'age': 71, 'city': 'tokyo', 'name': 'john'}\n",
      "以先年齡後住處排序：\n",
      "==================================================\n",
      "{'age': 16, 'city': 'london', 'name': 'zoe'}\n",
      "{'age': 16, 'city': 'rio', 'name': 'cathy'}\n",
      "{'age': 31, 'city': 'taipei', 'name': 'amy'}\n",
      "{'age': 48, 'city': 'frankfurt', 'name': 'david'}\n",
      "{'age': 71, 'city': 'tokyo', 'name': 'john'}\n"
     ]
    }
   ],
   "source": [
    "# 【練習】某程式設計班中同學的相關資料建立為一字典如下：\n",
    "# data = [\n",
    "#     {'age': 31, 'city': 'taipei', 'name': 'amy'},\n",
    "#     {'age': 71, 'city': 'tokyo', 'name': 'john'},\n",
    "#     {'age': 16, 'city': 'london', 'name': 'zoe'},\n",
    "#     {'age': 16, 'city': 'rio', 'name': 'cathy'},\n",
    "#     {'age': 48, 'city': 'frankfurt', 'name': 'david'}]\n",
    "# 請分別依據年齡、住處、姓名、先年齡後姓名、先年齡後住處的遞增順序輸出同學們的資料。\n",
    "\n",
    "from operator import itemgetter\n",
    "def show_data(key, d):\n",
    "    print('以%s排序：'%key)\n",
    "    print('='*50)\n",
    "    for item in d:\n",
    "        print(item)\n",
    "        \n",
    "data = [\n",
    "    {'age': 31, 'city': 'taipei', 'name': 'amy'},\n",
    "    {'age': 71, 'city': 'tokyo', 'name': 'john'},\n",
    "    {'age': 16, 'city': 'london', 'name': 'zoe'},\n",
    "    {'age': 16, 'city': 'rio', 'name': 'cathy'},\n",
    "    {'age': 48, 'city': 'frankfurt', 'name': 'david'}]\n",
    "data0 = sorted(data, key=itemgetter('age'))\n",
    "data1 = sorted(data, key=itemgetter('name'))\n",
    "data2 = sorted(data, key=itemgetter('city'))\n",
    "data3 = sorted(data, key=itemgetter('age', 'name'))\n",
    "data4 = sorted(data, key=itemgetter('age', 'city')) \n",
    "\n",
    "show_data('年齡', data0)\n",
    "show_data('姓名', data1)\n",
    "show_data('住處', data2)\n",
    "show_data('先年齡後姓名', data3)\n",
    "show_data('先年齡後住處', data4)"
   ]
  },
  {
   "cell_type": "code",
   "execution_count": 23,
   "metadata": {},
   "outputs": [
    {
     "name": "stdout",
     "output_type": "stream",
     "text": [
      "提取出來的姓名成績資料字典為： {'amy': 31, 'john': 71, 'zoe': 16, 'cathy': 66, 'david': 48}\n",
      "最高分者： ('john', 71)\n",
      "最低分者： ('zoe', 16)\n",
      "提取出來的姓名成績資料字典為： {'amy': 31, 'john': 71, 'zoe': 16, 'cathy': 66, 'david': 48}\n",
      "最高分者： ('john', 71)\n",
      "最低分者： ('zoe', 16)\n"
     ]
    }
   ],
   "source": [
    "# 【練習】某程式設計班中同學的成績存成一個字典串列如下：\n",
    "data = [\n",
    "    {'score': 31, 'city': 'taipei', 'name': 'amy'},\n",
    "    {'score': 71, 'city': 'tokyo', 'name': 'john'},\n",
    "    {'score': 16, 'city': 'london', 'name': 'zoe'},\n",
    "    {'score': 66, 'city': 'rio', 'name': 'cathy'},\n",
    "    {'score': 48, 'city': 'frankfurt', 'name': 'david'}]\n",
    "# 請先從這個字典串列資料中提取出姓名和成績欄位資料成為一個{姓名1:成績1,姓名2:成績2,姓名3:成績3, ...}的字典資料，然後從中找出最高分者與最低分者。\n",
    "\n",
    "import operator\n",
    "data = [\n",
    "    {'score': 31, 'city': 'taipei', 'name': 'amy'},\n",
    "    {'score': 71, 'city': 'tokyo', 'name': 'john'},\n",
    "    {'score': 16, 'city': 'london', 'name': 'zoe'},\n",
    "    {'score': 66, 'city': 'rio', 'name': 'cathy'},\n",
    "    {'score': 48, 'city': 'frankfurt', 'name': 'david'}]\n",
    "\n",
    "field_getter = lambda d, key1, key2: [(d[key1], d[key2])]\n",
    "data_list = {n:s for d in data for s, n in field_getter(d, 'score', 'name')} #雙重字典推導\n",
    "print('提取出來的姓名成績資料字典為：', sub_data)\n",
    "key_max = max(sub_data.items(), key=operator.itemgetter(1))\n",
    "key_min = min(sub_data.items(), key=operator.itemgetter(1))\n",
    "print('最高分者：', key_max)\n",
    "print('最低分者：',key_min)\n",
    "#print(score_data)\n",
    "\n",
    "print('提取出來的姓名成績資料字典為：', data_list)\n",
    "print('最高分者：',score_max)\n",
    "print('最低分者：',score_min)"
   ]
  },
  {
   "cell_type": "code",
   "execution_count": 22,
   "metadata": {},
   "outputs": [
    {
     "name": "stdout",
     "output_type": "stream",
     "text": [
      "提取出來的姓名成績資料字典為： {'amy': 31, 'john': 71, 'zoe': 16, 'cathy': 66, 'david': 48}\n",
      "最高分者： ('john', 71)\n",
      "最低分者： ('zoe', 16)\n"
     ]
    }
   ],
   "source": [
    "import operator\n",
    "data = [\n",
    "    {'score': 31, 'city': 'taipei', 'name': 'amy'},\n",
    "    {'score': 71, 'city': 'tokyo', 'name': 'john'},\n",
    "    {'score': 16, 'city': 'london', 'name': 'zoe'},\n",
    "    {'score': 66, 'city': 'rio', 'name': 'cathy'},\n",
    "    {'score': 48, 'city': 'frankfurt', 'name': 'david'}]\n",
    "def get_data(d, key1, key2):\n",
    "    return {d[key1]:d[key2]}\n",
    "field_getter = lambda d, key1, key2: {d[key1]:d[key2]}\n",
    "#for d in data:   \n",
    "#    d0 = get_data(d, 'score', 'name')\n",
    "#    print(d0)\n",
    "#    for s,n in get_data(d, 'score', 'name').items():\n",
    "#        print({n:s})\n",
    "data_list = {n:s for d in data for s,n in field_getter(d, 'score', 'name').items()}\n",
    "sorted_data = sorted(data_list.items(), key=operator.itemgetter(1))\n",
    "score_min = min(data_list.items(), key=operator.itemgetter(1))\n",
    "score_max = max(data_list.items(), key=operator.itemgetter(1))\n",
    "print('提取出來的姓名成績資料字典為：', data_list)\n",
    "print('最高分者：', score_max)\n",
    "print('最低分者：', score_min)"
   ]
  },
  {
   "cell_type": "code",
   "execution_count": null,
   "metadata": {},
   "outputs": [],
   "source": []
  }
 ],
 "metadata": {
  "kernelspec": {
   "display_name": "Python 3",
   "language": "python",
   "name": "python3"
  },
  "language_info": {
   "codemirror_mode": {
    "name": "ipython",
    "version": 3
   },
   "file_extension": ".py",
   "mimetype": "text/x-python",
   "name": "python",
   "nbconvert_exporter": "python",
   "pygments_lexer": "ipython3",
   "version": "3.7.3"
  }
 },
 "nbformat": 4,
 "nbformat_minor": 2
}
