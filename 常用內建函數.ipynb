{
 "cells": [
  {
   "cell_type": "markdown",
   "metadata": {},
   "source": [
    "# HTML網頁\n",
    "#import urllib.request\n",
    "#urllib.request.urlretrieve(\"http://web.csie.ndhu.edu.tw/ccchiang/Data/mystyle.py\", \"mystyle.py\")\n",
    "#from mystyle import Style\n",
    "#from IPython.display import HTML\n",
    "#HTML(Style().style)"
   ]
  },
  {
   "cell_type": "markdown",
   "metadata": {},
   "source": [
    "# 資料串列"
   ]
  },
  {
   "cell_type": "markdown",
   "metadata": {},
   "source": [
    "把一序列的資料放入一對左右方括號中，並以逗號隔開。\n",
    "#資料可以使各種不同類型的資料，也可以是同一類型的資料"
   ]
  },
  {
   "cell_type": "code",
   "execution_count": 1,
   "metadata": {},
   "outputs": [
    {
     "name": "stdout",
     "output_type": "stream",
     "text": [
      "江老師的姓名是 江蟀哥 身高為 173.5 體重為 100.0 已婚 True 年齡已經 60\n"
     ]
    }
   ],
   "source": [
    "# 【練習】江老師的個人資料如下：\n",
    "# 姓名：江蟀哥\n",
    "# 身高：173.5 cm\n",
    "# 體重：100 kg\n",
    "# 已婚：是\n",
    "# 年齡：60\n",
    "# 請用串列來儲存江老師的個人資料\n",
    "ccc_data = ['江蟀哥',173.5,100.0,True,60]\n",
    "name = ccc_data[0]\n",
    "height = ccc_data[1]\n",
    "weight = ccc_data[2]\n",
    "married = ccc_data[3]\n",
    "age = ccc_data[4]\n",
    "print('江老師的姓名是', name, '身高為', height, '體重為', weight, '已婚', married, '年齡已經', age)"
   ]
  },
  {
   "cell_type": "code",
   "execution_count": 2,
   "metadata": {},
   "outputs": [
    {
     "name": "stdout",
     "output_type": "stream",
     "text": [
      "國文 60 英文 99 數學 75 化學 90 物理 60\n"
     ]
    }
   ],
   "source": [
    "# 【練習】王五同學期中考五科國文、英文、數學、化學、物理的成績資料分別是60, 99, 75, 90, 84，請用串列儲存這些成績資料。\n",
    "courses = ['國文', '英文', '數學', '化學', '物理']\n",
    "scores = [60, 99, 75, 90, 84]\n",
    "chinese = scores[0]\n",
    "english = scores[1]\n",
    "math = scores[2]\n",
    "chemistry = scores[3]\n",
    "physics = ccc_data[4]\n",
    "print(courses[0], chinese, courses[1], english, courses[2], math, courses[3], chemistry, courses[4], physics)"
   ]
  },
  {
   "cell_type": "markdown",
   "metadata": {},
   "source": [
    "# 找最大和最小\n",
    "max(a, b, c, ...)\n",
    "#max(串列)\n",
    "#min(a, b, c, ...)\n",
    "#min(串列)"
   ]
  },
  {
   "cell_type": "code",
   "execution_count": 3,
   "metadata": {},
   "outputs": [
    {
     "name": "stdout",
     "output_type": "stream",
     "text": [
      "三數由小而大為 50 100 200\n"
     ]
    }
   ],
   "source": [
    "# 給定三個數字，請依照由小而大排列。\n",
    "a, b, c = 100, 50, 200\n",
    "small = min(a, b, c)\n",
    "large = max(a, b, c)\n",
    "middle = a+b+c-small-large\n",
    "print('三數由小而大為', small, middle, large)"
   ]
  },
  {
   "cell_type": "code",
   "execution_count": 4,
   "metadata": {},
   "outputs": [
    {
     "name": "stdout",
     "output_type": "stream",
     "text": [
      "最高分與最低分差了 54 分\n"
     ]
    }
   ],
   "source": [
    "# 【練習】本班十位同學成績如下所列：50, 60, 45, 99, 74, 63, 93, 84, 65, 88。請找出第一名與最後一名差多少分？\n",
    "scores = [50, 60, 45, 99, 74, 63, 93, 84, 65, 88]\n",
    "first = max(scores)\n",
    "last = min(scores)\n",
    "print('最高分與最低分差了', first-last, '分')"
   ]
  },
  {
   "cell_type": "markdown",
   "metadata": {},
   "source": [
    "# 總和與平均\n",
    "sum(串列)\n",
    "#len(串列)"
   ]
  },
  {
   "cell_type": "code",
   "execution_count": 5,
   "metadata": {},
   "outputs": [
    {
     "name": "stdout",
     "output_type": "stream",
     "text": [
      "本班總共 10 人，總平均分數 = 72.1\n"
     ]
    }
   ],
   "source": [
    "# 【練習】本班十位同學成績如下所列：50, 60, 45, 99, 74, 63, 93, 84, 65, 88。請算出全班總平均？\n",
    "scores = [50, 60, 45, 99, 74, 63, 93, 84, 65, 88]\n",
    "total = sum(scores)\n",
    "average = total/len(scores)\n",
    "print('本班總共', len(scores), '人，總平均分數 =', average)"
   ]
  },
  {
   "cell_type": "markdown",
   "metadata": {},
   "source": [
    "# 排順序\n",
    "sorted(串列)\n",
    "#串列.sort(reverse=?)"
   ]
  },
  {
   "cell_type": "code",
   "execution_count": 22,
   "metadata": {},
   "outputs": [
    {
     "name": "stdout",
     "output_type": "stream",
     "text": [
      "[45, 50, 60, 63, 65, 74, 84, 88, 93, 99]\n",
      "前50%同學的分數 = [99, 93, 88, 84, 74]\n",
      "前50%同學的平均分數 = 87.6\n"
     ]
    }
   ],
   "source": [
    "# 【練習】本班十位同學成績如下所列：50, 60, 45, 99, 74, 63, 93, 84, 65, 88。請幫忙找出前三名的分數，並算出前50%同學的平均分數？\n",
    "scores = [50, 60, 45, 99, 74, 63, 93, 84, 65, 88]\n",
    "sorted_scores1 = sorted(scores)\n",
    "print(sorted_scores1)\n",
    "# print('第一名：', sorted_scores1[-1], '第二名：', sorted_scores1[-2], '第三名：', sorted_scores1[-3])\n",
    "scores.sort(reverse = True)\n",
    "\n",
    "num_fifty_pcnt = len(scores)//2\n",
    "fifty_pcnt = scores[0:num_fifty_pcnt]\n",
    "fifty_pcnt\n",
    "average = sum(fifty_pcnt)/num_fifty_pcnt\n",
    "print('前50%同學的分數 =', fifty_pcnt)\n",
    "print('前50%同學的平均分數 =', average)\n",
    "# 《請注意》 截取串列元素\n",
    "# 和截取子字串一樣，串列[a:b:c]可以將串列中從第a個元素到第b-1個元素間，每隔c個元素取出一元素成為新串列。\n",
    "# 負值索引k代表倒數第k個。 "
   ]
  },
  {
   "cell_type": "markdown",
   "metadata": {},
   "source": [
    "# 絕對值與四捨五入\n",
    "abs()\n",
    "#round()"
   ]
  },
  {
   "cell_type": "code",
   "execution_count": 23,
   "metadata": {},
   "outputs": [
    {
     "name": "stdout",
     "output_type": "stream",
     "text": [
      "最近： 36 ，中間： 46 ，最遠： 116\n"
     ]
    }
   ],
   "source": [
    "# 【練習】小芬、小凱、大雄、小瓜家分別住在大學路121號、5號、167號、85號。請問後面三個男生家離小芬家門號間隔由近而遠分別是多少？\n",
    "door_no = [121, 5, 167, 85]\n",
    "dist = [abs(door_no[0]-door_no[1]), abs(door_no[0]-door_no[2]), abs(door_no[0]-door_no[3])]\n",
    "sorted_dist = sorted(dist)\n",
    "print('最近：', sorted_dist[0], '，中間：', sorted_dist[1], '，最遠：', sorted_dist[2])"
   ]
  },
  {
   "cell_type": "code",
   "execution_count": 24,
   "metadata": {},
   "outputs": [
    {
     "name": "stdout",
     "output_type": "stream",
     "text": [
      "請交 160494\n"
     ]
    },
    {
     "data": {
      "text/plain": [
       "63457"
      ]
     },
     "execution_count": 24,
     "metadata": {},
     "output_type": "execute_result"
    }
   ],
   "source": [
    "# 【練習】台灣稅制規定，收入超出1000000（含）者抽所得稅13%，收入介於500000（含）到1000000以下者抽所得稅10%，低於500000以下者抽7%。江老師收入是N元，請幫忙算出他要繳多少所得稅(不滿一元者請四捨五入）。\n",
    "ccc_income = 1234567\n",
    "if ccc_income>=1000000:\n",
    "    print('請交', round(ccc_income*0.13))\n",
    "elif 500000<=ccc_income<1000000:\n",
    "    print('請交', round(ccc_income*0.10))\n",
    "else:\n",
    "    print('請交', round(ccc_income*0.07))\n",
    "round(63456.7)"
   ]
  },
  {
   "cell_type": "code",
   "execution_count": 25,
   "metadata": {},
   "outputs": [
    {
     "name": "stdout",
     "output_type": "stream",
     "text": [
      "您所要的位數是 3\n"
     ]
    }
   ],
   "source": [
    "# 【練習】給一個小數N，請取出其百位數。\n",
    "N = 123456.123456\n",
    "base = pow(10, 3) \n",
    "N1 = int(N / base)\n",
    "print('您所要的位數是', N1%10)"
   ]
  },
  {
   "cell_type": "markdown",
   "metadata": {},
   "source": [
    "# 三角函數、對指數函數、其他\n",
    "math.cos(theta)：theta必須是徑度\n",
    "#math.sin(theta)\n",
    "#math.tan(theta)\n",
    "#math.log(N, base)：以base為底對N取對數\n",
    "#math.ceil(N)：大或等於於N的最小整數\n",
    "#math.floor(N)：小或等於N的最大整數\n",
    "#math.pi：圓周率"
   ]
  },
  {
   "cell_type": "markdown",
   "metadata": {},
   "source": [
    "# 《請注意》 匯入模組\n",
    "# 要使用上述數學函數，需先以import指令匯入math模組，否則會出現錯誤。"
   ]
  },
  {
   "cell_type": "code",
   "execution_count": 27,
   "metadata": {},
   "outputs": [
    {
     "name": "stdout",
     "output_type": "stream",
     "text": [
      "3 個月後退休金低於 10000 元\n"
     ]
    }
   ],
   "source": [
    "# 【練習】江阿舍退休退休金帳戶有P元，他每個月都投資所餘退休金的一半。假設他的收入都不進他的退休金帳戶，請問幾個月後他的退休金會低於N元？\n",
    "import math\n",
    "P = 100000\n",
    "N = 10000\n",
    "m = math.floor(math.log(P/N, 2))\n",
    "print(m, '個月後退休金低於', N, '元')"
   ]
  },
  {
   "cell_type": "code",
   "execution_count": 28,
   "metadata": {},
   "outputs": [
    {
     "name": "stdout",
     "output_type": "stream",
     "text": [
      "第三邊 = 5.830951894845301\n"
     ]
    }
   ],
   "source": [
    "# 【練習】餘弦定理：\n",
    "# c2=a2+b2−2abcosθ\n",
    " \n",
    "# 給定三角形二邊長a, b,以及其夾角 θ ，請求出第三邊。\n",
    "import math\n",
    "a, b, theta = 3, 5, 90\n",
    "c = (a*a+b*b-2*a*b*math.cos(theta*math.pi/180))**0.5\n",
    "print('第三邊 =', c)"
   ]
  },
  {
   "cell_type": "markdown",
   "metadata": {},
   "source": [
    "# 《請注意》 角度 vs. 徑度\n",
    "#math.degrees(math.pi/2) = 90.0\n",
    "#math.radians(90) = 1.5707963267948966"
   ]
  },
  {
   "cell_type": "markdown",
   "metadata": {},
   "source": [
    "# 文字內碼\n",
    "ord(字元)：取得字元的內碼\n",
    "#chr(內碼)：內碼轉回字元"
   ]
  },
  {
   "cell_type": "code",
   "execution_count": 29,
   "metadata": {},
   "outputs": [
    {
     "name": "stdout",
     "output_type": "stream",
     "text": [
      "A的內碼 = 65\n",
      "B的內碼 = 66\n",
      "a的內碼 = 97\n",
      "江的內碼 = 27743\n",
      "字母N後面的第五個字母是 S\n"
     ]
    }
   ],
   "source": [
    "# 【練習】請輸出字母A, B, a,和'江'等字元的內碼，另外，請問接在字母N後面的第五個字母是什麼？\n",
    "print('A的內碼 =', ord('A'))\n",
    "print('B的內碼 =', ord('B'))\n",
    "print('a的內碼 =', ord('a'))\n",
    "print('江的內碼 =', ord('江'))\n",
    "print('字母N後面的第五個字母是', chr(ord('N')+5))"
   ]
  },
  {
   "cell_type": "code",
   "execution_count": 30,
   "metadata": {},
   "outputs": [
    {
     "name": "stdout",
     "output_type": "stream",
     "text": [
      "07123456789 轉成身份證字號是 G7123456789\n"
     ]
    }
   ],
   "source": [
    "# 【練習】台灣的家用電話因為沒有英文輸入，所以輸入身份證字號常用數字來輸入，例如A為01，B為02，以此類推。今截獲一個輸入碼為XXXXXXXXXXX，請將其轉為身份證字號。\n",
    "id_str = '07123456789'\n",
    "code = ord('A')+int(id_str[0:2])-1\n",
    "letter = chr(code)\n",
    "pid = letter+id_str[1:]\n",
    "print(id_str,'轉成身份證字號是', pid)"
   ]
  },
  {
   "cell_type": "markdown",
   "metadata": {},
   "source": [
    "# 亂數產生器\n",
    "random.randint(a, b)：隨機產生a到b間的整數（ a≤n≤b ）。\n",
    "#random.random()：隨意產生0到1之間的小數（ 0≤n<1 )。\n",
    "#random.choice(串列)：從串列中隨機抽一個元素出來。"
   ]
  },
  {
   "cell_type": "code",
   "execution_count": 31,
   "metadata": {},
   "outputs": [
    {
     "name": "stdout",
     "output_type": "stream",
     "text": [
      "二顆骰子點數分別為 6 和 5 ，點數為 11\n"
     ]
    }
   ],
   "source": [
    "# 【練習】請模擬電腦丟出二顆骰子，並算出點數。\n",
    "import random\n",
    "dice1 = random.randint(1, 6)\n",
    "dice2 = random.randint(1, 6)\n",
    "print('二顆骰子點數分別為', dice1, '和', dice2, '，點數為', dice1+dice2)"
   ]
  },
  {
   "cell_type": "code",
   "execution_count": 32,
   "metadata": {},
   "outputs": [
    {
     "name": "stdout",
     "output_type": "stream",
     "text": [
      "身高 167.0722352068096 公分，體重 71.48734515790683 ,算出BMI = 25.610650115875778\n"
     ]
    }
   ],
   "source": [
    "# 【練習】一般而言，中年人的體重是介於50.0到90.0之間，而身高則是在150.0到185.0之間，請用電腦模擬產生一個中年人的體重和身高出來，並計算其BMI。\n",
    "# BMI=W/H2\n",
    "import random\n",
    "weight = random.random()*40+50\n",
    "height = random.random()*35+150\n",
    "bmi = weight/(height/100)**2\n",
    "print('身高', height, '公分，體重', weight, ',算出BMI =', bmi)\n",
    "\n"
   ]
  },
  {
   "cell_type": "code",
   "execution_count": 33,
   "metadata": {},
   "outputs": [
    {
     "name": "stdout",
     "output_type": "stream",
     "text": [
      "抽獎箱中的號碼有 [1, 2, 3, 4, 5, 6, 7, 8, 9, 10, 11, 12, 13, 14, 15, 16, 17, 18, 19, 20, 21]\n",
      "中獎號碼是 17\n"
     ]
    }
   ],
   "source": [
    "# 【練習】請模擬從21個樂透號碼中抽出一個中獎號碼的程式。\n",
    "import random\n",
    "numbers = list(range(1, 22))\n",
    "print('抽獎箱中的號碼有', numbers)\n",
    "winner = random.choice(numbers)\n",
    "print('中獎號碼是', winner)"
   ]
  },
  {
   "cell_type": "markdown",
   "metadata": {},
   "source": [
    "# 《請注意》range() 範圍函數\n",
    "range(a, b, d)會傳回一個範圍，這個範圍包含了 a, a+d, a+2d, ..., a+(n-1)*d 這樣的等差序列，其中a+(n-1)*d ≤  b-1 < a+n*d\n",
    "#可利用 list() 函數將此序列範圍轉成串列。"
   ]
  },
  {
   "cell_type": "code",
   "execution_count": null,
   "metadata": {},
   "outputs": [],
   "source": []
  }
 ],
 "metadata": {
  "kernelspec": {
   "display_name": "Python 3",
   "language": "python",
   "name": "python3"
  },
  "language_info": {
   "codemirror_mode": {
    "name": "ipython",
    "version": 3
   },
   "file_extension": ".py",
   "mimetype": "text/x-python",
   "name": "python",
   "nbconvert_exporter": "python",
   "pygments_lexer": "ipython3",
   "version": "3.7.3"
  }
 },
 "nbformat": 4,
 "nbformat_minor": 2
}
