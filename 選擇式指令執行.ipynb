{
 "cells": [
  {
   "cell_type": "markdown",
   "metadata": {},
   "source": [
    "# 如果 ... 就 ..."
   ]
  },
  {
   "cell_type": "markdown",
   "metadata": {},
   "source": [
    "#if 某條件成立:\n",
    "    指令區塊\n",
    "#* if 最後面的冒號很重要\n",
    "#* 指令區塊要縮排"
   ]
  },
  {
   "cell_type": "code",
   "execution_count": 1,
   "metadata": {},
   "outputs": [
    {
     "name": "stdout",
     "output_type": "stream",
     "text": [
      "請輸入姓名：藍子杰\n",
      "請輸入體重：62\n",
      "藍子杰 同學，請跑 1000 公尺\n"
     ]
    }
   ],
   "source": [
    "# 【練習】老師規定同學們上課跑操場1000公尺，但如果體重超過80公斤，就要多跑500公尺。\n",
    "name = input('請輸入姓名：')\n",
    "weight = int(input('請輸入體重：'))\n",
    "distance = 1000\n",
    "if weight>=80:\n",
    "    distance += 500\n",
    "print(name, '同學，請跑', distance,'公尺')"
   ]
  },
  {
   "cell_type": "code",
   "execution_count": 2,
   "metadata": {},
   "outputs": [
    {
     "name": "stdout",
     "output_type": "stream",
     "text": [
      "請輸入姓名：Blue\n",
      "請輸入體重：64\n",
      "請輸入身高：170\n",
      "Blue 同學，請跑 1000 公尺\n"
     ]
    }
   ],
   "source": [
    "# 【練習】老師規定同學們上課跑操場1000公尺，但如果體重超過80公斤而且身高低於150公分，就要多跑500公尺。\n",
    "name = input('請輸入姓名：')\n",
    "weight = int(input('請輸入體重：'))\n",
    "height = int(input('請輸入身高：'))\n",
    "distance = 1000\n",
    "if weight>=80 and height<=150:\n",
    "    distance += 500\n",
    "print(name, '同學，請跑', distance,'公尺')"
   ]
  },
  {
   "cell_type": "code",
   "execution_count": 3,
   "metadata": {},
   "outputs": [
    {
     "name": "stdout",
     "output_type": "stream",
     "text": [
      "請輸入年份：2019\n",
      "2019 是 平年 這年有 365 天\n"
     ]
    }
   ],
   "source": [
    "# 【練習】輸入年份，請輸出該年有幾天。\n",
    "year = int(input('請輸入年份：'))\n",
    "days = 365\n",
    "year_type = '平年'\n",
    "if (year%4==0 and year%100!=0) or (year%400==0):\n",
    "    days = 366\n",
    "    year_type = '閏年'\n",
    "print(year, '是', year_type, '這年有', days, '天')"
   ]
  },
  {
   "cell_type": "code",
   "execution_count": 4,
   "metadata": {},
   "outputs": [
    {
     "name": "stdout",
     "output_type": "stream",
     "text": [
      "恭禧您！ 20 中獎了！\n",
      "恭禧您！ 14 中獎了！\n",
      "您總共獲得獎金 2000 元\n"
     ]
    }
   ],
   "source": [
    "# 【練習】給你一組中獎的樂透號碼A, B, C, D, E，然後你去買了一張樂透，上面的號碼是F, G, H，每中一個號碼得獎金1000元，請寫程式對對看你中了多少獎金。\n",
    "lotto = [20,21,30,14,5]\n",
    "your_numbers = [20, 12, 14]\n",
    "prize = 0\n",
    "if your_numbers[0] in lotto:\n",
    "    prize += 1000\n",
    "    print('恭禧您！', your_numbers[0],'中獎了！')\n",
    "if your_numbers[1] in lotto:\n",
    "    prize += 1000\n",
    "    print('恭禧您！', your_numbers[1],'中獎了！')\n",
    "if your_numbers[2] in lotto:\n",
    "    prize += 1000\n",
    "    print('恭禧您！', your_numbers[2],'中獎了！')\n",
    "print('您總共獲得獎金', prize, '元')\n"
   ]
  },
  {
   "cell_type": "markdown",
   "metadata": {},
   "source": [
    "《請注意》 in vs. not in\n",
    "#資料 in 串列：檢查【資料】是否有出現在【串列】中，有則True，無則False。\n",
    "#資料 not in 串列：檢查【資料】是否不在【串列】中，無則True，有則False。"
   ]
  },
  {
   "cell_type": "markdown",
   "metadata": {},
   "source": [
    "# 如果 ... 就 ... 否則就 ...\n",
    "#if 某條件成立:\n",
    "    指令區塊一\n",
    "#else:\n",
    "    指令區塊二\n",
    "#* if 和 else 最後面的冒號很重要\n",
    "#* 指令區塊要記得縮排"
   ]
  },
  {
   "cell_type": "code",
   "execution_count": 6,
   "metadata": {},
   "outputs": [
    {
     "name": "stdout",
     "output_type": "stream",
     "text": [
      "請輸入三科成績：100 90 98\n",
      "恭禧！平均分數  96.00，不須補考\n"
     ]
    }
   ],
   "source": [
    "# 【練習】期中考考三科，平均分數低於60分者必須補考，否則不用，請寫程式來判讀同學是否須補考。\n",
    "data = input('請輸入三科成績：').split()\n",
    "s1, s2, s3 = int(data[0]), int(data[1]), int(data[2])\n",
    "scores = [s1, s2, s3]\n",
    "avg = sum(scores)/len(scores)\n",
    "if avg>=60:\n",
    "    print('恭禧！平均分數 %6.2f，不須補考'%avg)\n",
    "else:\n",
    "    print('抱歉！平均分數 %6.2f，必須補考'%avg)"
   ]
  },
  {
   "cell_type": "code",
   "execution_count": 7,
   "metadata": {},
   "outputs": [
    {
     "name": "stdout",
     "output_type": "stream",
     "text": [
      "二根分別為-1.0000和-2.0000\n"
     ]
    }
   ],
   "source": [
    "# 【練習】請寫一個程式算出方程式 ax2+bx+c=0 的二根。\n",
    "a, b, c = 1, 3, 2\n",
    "D = b*b-4*a*c\n",
    "if D>=0:\n",
    "    root1 = (-b+D**0.5)/(2*a)\n",
    "    root2 = (-b-D**0.5)/(2*a)\n",
    "    print('二根分別為%.4f和%.4f'%(root1, root2))\n",
    "else:\n",
    "    real = -b/(2*a)\n",
    "    imag = (-D)**0.5/(2*a)\n",
    "    print('二根分別為%.4f+%.4fi和%.4f-%.4fi'%(real, imag, real, imag))"
   ]
  },
  {
   "cell_type": "code",
   "execution_count": 9,
   "metadata": {},
   "outputs": [
    {
     "name": "stdout",
     "output_type": "stream",
     "text": [
      "請選擇圓形（1）或矩形（2）：1\n",
      "請輸入半徑3\n",
      "您選擇的形狀是圓形,面積為28.2743\n"
     ]
    }
   ],
   "source": [
    "# 【練習】面積計算器：請寫一個程式先詢問使用者選擇圓形或矩形，如果選圓形，就要求使用者輸入半徑，然後算出面積，否則就要求使用者輸入矩形的寬度和高度，然後算出面積，最後輸出使用者選的形狀以及面積。\n",
    "import math\n",
    "selection = int(input('請選擇圓形（1）或矩形（2）：'))\n",
    "if selection == 1:\n",
    "    shape = '圓形'\n",
    "    r = float(input('請輸入半徑'))\n",
    "    area = math.pi*r*r\n",
    "else:\n",
    "    shape = '矩形'\n",
    "    a, b = float(input('請輸入寬度與高度：')).split()\n",
    "    a, b = int(a), int(b)\n",
    "    area = a*b\n",
    "print('您選擇的形狀是%s,面積為%6.4f'%(shape, area))"
   ]
  },
  {
   "cell_type": "markdown",
   "metadata": {},
   "source": [
    "# 連環選擇\n",
    "#if 某條件成立:\n",
    "    指令區塊一\n",
    "#elif:\n",
    "    指令區塊二\n",
    "#elif:\n",
    "    指令區塊三\n",
    "#...    \n",
    "#else:\n",
    "    指令區塊N\n",
    "#* if、 elif 和 else 最後面的冒號很重要\n",
    "#* 指令區塊要記得縮排"
   ]
  },
  {
   "cell_type": "code",
   "execution_count": 10,
   "metadata": {},
   "outputs": [
    {
     "name": "stdout",
     "output_type": "stream",
     "text": [
      "請選擇圓形（1）、矩形（2）或三角形（3）：2\n",
      "請輸入寬度與高度：4 8\n",
      "您選擇的形狀是矩形,面積為32.0000\n"
     ]
    }
   ],
   "source": [
    "# 【練習】面積計算器：請寫一個程式先詢問使用者選擇圓形、矩形或三角形，如果選圓形，就要求使用者輸入半徑，然後算出面積，否則如果是矩形就要求使用者輸入矩形的寬度和高度，然後算出面積，否則就請使用者輸入三角形三邊長，然後算出面積，最後輸出使用者選的形狀以及面積。\n",
    "import math\n",
    "selection = int(input('請選擇圓形（1）、矩形（2）或三角形（3）：'))\n",
    "if selection == 1:\n",
    "    shape = '圓形'\n",
    "    r = float(input('請輸入半徑'))\n",
    "    area = math.pi*r*r\n",
    "elif selection == 2:\n",
    "    shape = '矩形'\n",
    "    a, b = input('請輸入寬度與高度：').split()\n",
    "    a, b = float(a), float(b)\n",
    "    area = a*b\n",
    "else:\n",
    "    shape = '三角形'\n",
    "    a, b, c = input('請輸入三角形三邊長：').split()\n",
    "    a, b, c = float(a), float(b), float(c)\n",
    "    s = (a+b+c)/2\n",
    "    area = (s*(s-a)*(s-b)*(s-c))**0.5\n",
    "print('您選擇的形狀是%s,面積為%6.4f'%(shape, area))"
   ]
  },
  {
   "cell_type": "code",
   "execution_count": 11,
   "metadata": {},
   "outputs": [
    {
     "name": "stdout",
     "output_type": "stream",
     "text": [
      "請輸入身高與體重：180 64\n",
      "您的BMI = 19.753086419753085\n",
      "一般體重\n"
     ]
    }
   ],
   "source": [
    "# 【練習】BMI體位健康狀況判斷表如下表： 請寫一程式要求輸入身高體重後，依據上表判斷健康狀況。\n",
    "ws, hs = input('請輸入身高與體重：').split()\n",
    "h, w = float(ws), float(hs)\n",
    "bmi = w/(h/100)**2\n",
    "print('您的BMI =', bmi)\n",
    "if 18.5<=bmi<=24:\n",
    "    print('一般體重')\n",
    "elif 24<=bmi<30:\n",
    "    print('超重')\n",
    "elif 30<=bmi<40:\n",
    "    print('嚴重超重')\n",
    "else:\n",
    "    print('極度超重')"
   ]
  },
  {
   "cell_type": "markdown",
   "metadata": {},
   "source": [
    "# 選擇式計算式"
   ]
  },
  {
   "cell_type": "code",
   "execution_count": 15,
   "metadata": {},
   "outputs": [
    {
     "name": "stdout",
     "output_type": "stream",
     "text": [
      "請選擇性別：男（1），女（2）：1\n",
      "請輸入體重：65\n",
      "您必須跑3250.00\n"
     ]
    }
   ],
   "source": [
    "# 【練習】某老師規定同學跑操場，若是男生，則跑步距離就依其體重乘上50，若是女生，則跑步距離依其體重乘上30。請寫一程式要求使用者選擇性別，然後再輸入體重，最後算出必須跑步的距離。\n",
    "gender = int(input('請選擇性別：男（1），女（2）：'))\n",
    "weight = float(input('請輸入體重：'))\n",
    "distance = weight*50 if gender==1 else weight*30\n",
    "print('您必須跑%4.2f'%(distance))"
   ]
  },
  {
   "cell_type": "code",
   "execution_count": null,
   "metadata": {},
   "outputs": [],
   "source": []
  }
 ],
 "metadata": {
  "kernelspec": {
   "display_name": "Python 3",
   "language": "python",
   "name": "python3"
  },
  "language_info": {
   "codemirror_mode": {
    "name": "ipython",
    "version": 3
   },
   "file_extension": ".py",
   "mimetype": "text/x-python",
   "name": "python",
   "nbconvert_exporter": "python",
   "pygments_lexer": "ipython3",
   "version": "3.7.3"
  }
 },
 "nbformat": 4,
 "nbformat_minor": 2
}
