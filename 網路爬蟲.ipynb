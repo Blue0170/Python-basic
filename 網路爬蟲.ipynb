{
 "cells": [
  {
   "cell_type": "markdown",
   "metadata": {},
   "source": [
    "# 下載網頁\n",
    "#匯入urlib.request的urlopen模組\n",
    "#使用urlopen的read('網頁網址').read()讀取網頁\n",
    "#讀回的網頁内容是html檔按格式"
   ]
  },
  {
   "cell_type": "code",
   "execution_count": 4,
   "metadata": {},
   "outputs": [
    {
     "data": {
      "image/png": "[encoded data removed]",
      "text/plain": [
       "<Figure size 432x288 with 1 Axes>"
      ]
     },
     "metadata": {
      "needs_background": "light"
     },
     "output_type": "display_data"
    }
   ],
   "source": [
    "import matplotlib.pyplot as plt\n",
    "import numpy as np\n",
    "%matplotlib inline\n",
    "import skimage.io as skio\n",
    "img1 = skio.imread('C:/Users/USER/Desktop/夢想的價值/Python/自學/Web scraper.png')\n",
    "plt.imshow(img1)\n",
    "plt.show()"
   ]
  },
  {
   "cell_type": "code",
   "execution_count": 5,
   "metadata": {},
   "outputs": [
    {
     "name": "stdout",
     "output_type": "stream",
     "text": [
      "b'<html>\\n<head>\\n<title>A Useful Page</title>\\n</head>\\n<body>\\n<h1>An Interesting Title</h1>\\n<div>\\nLorem ipsum dolor sit amet, consectetur adipisicing elit, sed do eiusmod tempor incididunt ut labore et dolore magna aliqua. Ut enim ad minim veniam, quis nostrud exercitation ullamco laboris nisi ut aliquip ex ea commodo consequat. Duis aute irure dolor in reprehenderit in voluptate velit esse cillum dolore eu fugiat nulla pariatur. Excepteur sint occaecat cupidatat non proident, sunt in culpa qui officia deserunt mollit anim id est laborum.\\n</div>\\n</body>\\n</html>\\n'\n"
     ]
    }
   ],
   "source": [
    "# 請讀取網頁http://pythonscraping.com/pages/page1.html 的網頁内容，並將其印出。\n",
    "from urllib.request import urlopen\n",
    "html = urlopen('http://pythonscraping.com/pages/page1.html')\n",
    "print(html.read())"
   ]
  },
  {
   "cell_type": "markdown",
   "metadata": {},
   "source": [
    "# 處理HTML格式檔案\n",
    "#安裝 bs4 套件\n",
    "#切換到Python安裝目錄下的scripts資料夾\n",
    "#執行 pip install bs4\n",
    "#匯入BeautifulSoup套件\n",
    "#from bs4 import BeautifulSoup\n",
    "#建構一個BeautifulSoup之HTML處理器\n",
    "#bs = BeautifulSoup('html文字', '格式剖析器代號')\n"
   ]
  },
  {
   "cell_type": "code",
   "execution_count": 7,
   "metadata": {},
   "outputs": [
    {
     "name": "stdout",
     "output_type": "stream",
     "text": [
      "<html>\n",
      "<head>\n",
      "<title>A Useful Page</title>\n",
      "</head>\n",
      "<body>\n",
      "<h1>An Interesting Title</h1>\n",
      "<div>\n",
      "Lorem ipsum dolor sit amet, consectetur adipisicing elit, sed do eiusmod tempor incididunt ut labore et dolore magna aliqua. Ut enim ad minim veniam, quis nostrud exercitation ullamco laboris nisi ut aliquip ex ea commodo consequat. Duis aute irure dolor in reprehenderit in voluptate velit esse cillum dolore eu fugiat nulla pariatur. Excepteur sint occaecat cupidatat non proident, sunt in culpa qui officia deserunt mollit anim id est laborum.\n",
      "</div>\n",
      "</body>\n",
      "</html>\n",
      "--------------------------------------------------\n",
      "<head>\n",
      "<title>A Useful Page</title>\n",
      "</head>\n",
      "--------------------------------------------------\n",
      "<title>A Useful Page</title>\n",
      "--------------------------------------------------\n",
      "<body>\n",
      "<h1>An Interesting Title</h1>\n",
      "<div>\n",
      "Lorem ipsum dolor sit amet, consectetur adipisicing elit, sed do eiusmod tempor incididunt ut labore et dolore magna aliqua. Ut enim ad minim veniam, quis nostrud exercitation ullamco laboris nisi ut aliquip ex ea commodo consequat. Duis aute irure dolor in reprehenderit in voluptate velit esse cillum dolore eu fugiat nulla pariatur. Excepteur sint occaecat cupidatat non proident, sunt in culpa qui officia deserunt mollit anim id est laborum.\n",
      "</div>\n",
      "</body>\n",
      "--------------------------------------------------\n",
      "<h1>An Interesting Title</h1>\n",
      "--------------------------------------------------\n",
      "<div>\n",
      "Lorem ipsum dolor sit amet, consectetur adipisicing elit, sed do eiusmod tempor incididunt ut labore et dolore magna aliqua. Ut enim ad minim veniam, quis nostrud exercitation ullamco laboris nisi ut aliquip ex ea commodo consequat. Duis aute irure dolor in reprehenderit in voluptate velit esse cillum dolore eu fugiat nulla pariatur. Excepteur sint occaecat cupidatat non proident, sunt in culpa qui officia deserunt mollit anim id est laborum.\n",
      "</div>\n",
      "--------------------------------------------------\n"
     ]
    }
   ],
   "source": [
    "# 請從讀取的網頁http://pythonscraping.com/pages/page1.html 内容中找出<html>, <head>, <title>, <body>, <h1>, <div>等標簽内容。\n",
    "#from urllib.request import urlopen\n",
    "from bs4 import BeautifulSoup\n",
    "html = urlopen('http://www.pythonscraping.com/exercises/exercise1.html')\n",
    "bsObj = BeautifulSoup(html.read(), 'lxml')\n",
    "print(bsObj.html)\n",
    "print('-'*50)\n",
    "print(bsObj.head)\n",
    "print('-'*50)\n",
    "print(bsObj.title)\n",
    "print('-'*50)\n",
    "print(bsObj.body)\n",
    "print('-'*50)\n",
    "print(bsObj.h1)\n",
    "print('-'*50)\n",
    "print(bsObj.div)\n",
    "print('-'*50)"
   ]
  },
  {
   "cell_type": "markdown",
   "metadata": {},
   "source": [
    "# 防錯處理\n",
    "#處理網頁連接錯誤安裝\n",
    "#使用try ... except ...偵錯指令\n",
    "#偵測 HTTPError 錯誤\n",
    "#處理剖析錯誤\n",
    "#試圖截取不存在的標簽會囘傳一個None物件,若再試圖用這個None物件截取其他標簽,將傳回AttributeError錯誤.\n",
    "#使用try ... except ...偵錯指令\n",
    "#偵測 AttributeError 錯誤"
   ]
  },
  {
   "cell_type": "code",
   "execution_count": 8,
   "metadata": {},
   "outputs": [
    {
     "name": "stdout",
     "output_type": "stream",
     "text": [
      "Errors have happened.\n",
      "HTTP Error 404: Not Found\n"
     ]
    },
    {
     "ename": "NameError",
     "evalue": "name 'html2' is not defined",
     "output_type": "error",
     "traceback": [
      "\u001b[1;31m---------------------------------------------------------------------------\u001b[0m",
      "\u001b[1;31mNameError\u001b[0m                                 Traceback (most recent call last)",
      "\u001b[1;32m<ipython-input-8-98b30833b33d>\u001b[0m in \u001b[0;36m<module>\u001b[1;34m\u001b[0m\n\u001b[0;32m      9\u001b[0m     \u001b[0mprint\u001b[0m\u001b[1;33m(\u001b[0m\u001b[0me\u001b[0m\u001b[1;33m)\u001b[0m\u001b[1;33m\u001b[0m\u001b[1;33m\u001b[0m\u001b[0m\n\u001b[0;32m     10\u001b[0m     \u001b[1;31m#return null, break, or do some other \"Plan B\"\u001b[0m\u001b[1;33m\u001b[0m\u001b[1;33m\u001b[0m\u001b[1;33m\u001b[0m\u001b[0m\n\u001b[1;32m---> 11\u001b[1;33m \u001b[1;32mif\u001b[0m \u001b[0mhtml2\u001b[0m \u001b[1;32mis\u001b[0m \u001b[1;32mnot\u001b[0m \u001b[1;32mNone\u001b[0m\u001b[1;33m:\u001b[0m\u001b[1;33m\u001b[0m\u001b[1;33m\u001b[0m\u001b[0m\n\u001b[0m\u001b[0;32m     12\u001b[0m     \u001b[1;31m#program continues. Note: If you return or break in the\u001b[0m\u001b[1;33m\u001b[0m\u001b[1;33m\u001b[0m\u001b[1;33m\u001b[0m\u001b[0m\n\u001b[0;32m     13\u001b[0m     \u001b[1;31m#exception catch, you do not need to use the \"else\" statement\u001b[0m\u001b[1;33m\u001b[0m\u001b[1;33m\u001b[0m\u001b[1;33m\u001b[0m\u001b[0m\n",
      "\u001b[1;31mNameError\u001b[0m: name 'html2' is not defined"
     ]
    }
   ],
   "source": [
    "# 請讀取 http://pythonscraping.com/pages/page1.html 的網頁,若有連接錯誤請發出警告訊息。\n",
    "from urllib.error import HTTPError, URLError\n",
    "from urllib.request import urlopen\n",
    "from bs4 import BeautifulSoup\n",
    "try:\n",
    "    html2 = urlopen(\"http://www.pythonscraping.com/exercises/exercise2.html\")\n",
    "except URLError as e:\n",
    "    print('Errors have happened.')\n",
    "    print(e)\n",
    "    #return null, break, or do some other \"Plan B\"\n",
    "if html2 is not None:\n",
    "    #program continues. Note: If you return or break in the\n",
    "    #exception catch, you do not need to use the \"else\" statement\n",
    "    bsObj = BeautifulSoup(html.read(), 'lxml')\n",
    "    print(bsObj.html)\n",
    "    print('-'*50)\n",
    "    print(bsObj.head)\n",
    "    print('-'*50)\n",
    "    print(bsObj.title)\n",
    "    print('-'*50)\n",
    "    print(bsObj.body)\n",
    "    print('-'*50)\n",
    "    print(bsObj.h1)\n",
    "    print('-'*50)\n",
    "    print(bsObj.div)\n",
    "    print('-'*50)"
   ]
  },
  {
   "cell_type": "code",
   "execution_count": 9,
   "metadata": {},
   "outputs": [
    {
     "name": "stdout",
     "output_type": "stream",
     "text": [
      "Div-----\n",
      "<div>\n",
      "Lorem ipsum dolor sit amet, consectetur adipisicing elit, sed do eiusmod tempor incididunt ut labore et dolore magna aliqua. Ut enim ad minim veniam, quis nostrud exercitation ullamco laboris nisi ut aliquip ex ea commodo consequat. Duis aute irure dolor in reprehenderit in voluptate velit esse cillum dolore eu fugiat nulla pariatur. Excepteur sint occaecat cupidatat non proident, sunt in culpa qui officia deserunt mollit anim id est laborum.\n",
      "</div>\n",
      "Div.H1-----\n",
      "None\n",
      "Div.H2.IMG-----\n",
      "The request tag does not exist in the retrieved html.\n"
     ]
    }
   ],
   "source": [
    "# 請從讀取的網頁http://pythonscraping.com/pages/page1.html 内容中找出(1) <div>, (2)包含在<div>標簽下的<h1>, 及(3) <div>標簽下的<h2>標簽内的<img>標簽内容,若指定之標簽不存在或不正確是時請發出警告。\n",
    "from urllib.error import HTTPError\n",
    "try:\n",
    "    html = urlopen(\"http://www.pythonscraping.com/exercises/exercise1.html\")\n",
    "except HTTPError as e:\n",
    "    print('Errors have happened.')\n",
    "    print(e)\n",
    "    #return null, break, or do some other \"Plan B\"\n",
    "if html is not None:\n",
    "    #program continues. Note: If you return or break in the\n",
    "    #exception catch, you do not need to use the \"else\" statement\n",
    "    bsObj = BeautifulSoup(html.read(), 'lxml')\n",
    "    try:\n",
    "        print('Div-----')\n",
    "        content1 = bsObj.div\n",
    "        print(content1)\n",
    "        print('Div.H1-----')\n",
    "        content2 = bsObj.div.h1\n",
    "        print(content2)\n",
    "        print('Div.H2.IMG-----')\n",
    "        content3 = bsObj.div.h2.img\n",
    "        print(content3)\n",
    "    except AttributeError as e:\n",
    "        print('The request tag does not exist in the retrieved html.')"
   ]
  },
  {
   "cell_type": "code",
   "execution_count": 10,
   "metadata": {},
   "outputs": [
    {
     "name": "stdout",
     "output_type": "stream",
     "text": [
      "[<h1>An Interesting Title</h1>]\n"
     ]
    }
   ],
   "source": [
    "# 請設計一個函數getTag(url, tag)可從指定的url中讀取指定的tag標簽。\n",
    "from urllib.error import HTTPError\n",
    "\n",
    "def getTag(url, tag):    \n",
    "    try:\n",
    "        html = urlopen(url)\n",
    "    except HTTPError as e:\n",
    "        print('Errors have happened.')\n",
    "        print(e)\n",
    "        #return null, break, or do some other \"Plan B\"\n",
    "    if html is not None:\n",
    "        #program continues. Note: If you return or break in the\n",
    "        #exception catch, you do not need to use the \"else\" statement\n",
    "        bsObj = BeautifulSoup(html.read(), 'lxml')\n",
    "        try:\n",
    "            content1 = bsObj.find_all(tag) # find the html part specified by tag\n",
    "            print(content1)\n",
    "        except AttributeError as e:\n",
    "            print('The request tag does not exist in the retrieved html.')\n",
    "        if content1 is not None:\n",
    "            return content1\n",
    "\n",
    "title = getTag('http://www.pythonscraping.com/exercises/exercise1.html', tag='h1')"
   ]
  },
  {
   "cell_type": "markdown",
   "metadata": {},
   "source": [
    "# 搜尋HTML指定標簽\n",
    "#利用BeautifulSoup物件之find(tag, **keywords)指令\n",
    "#找出第一個標的\n",
    "#利用BeautifulSoup物件之findAll(tag, **keywords)指令\n",
    "#找出所有標的"
   ]
  },
  {
   "cell_type": "code",
   "execution_count": 11,
   "metadata": {},
   "outputs": [
    {
     "name": "stdout",
     "output_type": "stream",
     "text": [
      "Anna Pavlovna Scherer\n",
      "--------------------------------------------------------------------------------\n",
      "Anna Pavlovna Scherer\n",
      "Empress Marya Fedorovna\n",
      "Prince Vasili Kuragin\n",
      "Anna Pavlovna\n",
      "St. Petersburg\n",
      "the prince\n",
      "Anna Pavlovna\n",
      "Anna Pavlovna\n",
      "the prince\n",
      "the prince\n",
      "the prince\n",
      "Prince Vasili\n",
      "Anna Pavlovna\n",
      "Anna Pavlovna\n",
      "the prince\n",
      "Wintzingerode\n",
      "King of Prussia\n",
      "le Vicomte de Mortemart\n",
      "Montmorencys\n",
      "Rohans\n",
      "Abbe Morio\n",
      "the Emperor\n",
      "the prince\n",
      "Prince Vasili\n",
      "Dowager Empress Marya Fedorovna\n",
      "the baron\n",
      "Anna Pavlovna\n",
      "the Empress\n",
      "the Empress\n",
      "Anna Pavlovna's\n",
      "Her Majesty\n",
      "Baron Funke\n",
      "The prince\n",
      "Anna Pavlovna\n",
      "the Empress\n",
      "The prince\n",
      "Anatole\n",
      "the prince\n",
      "The prince\n",
      "Anna Pavlovna\n",
      "Anna Pavlovna\n"
     ]
    }
   ],
   "source": [
    "# 請從http://www.pythonscraping.com/pages/warandpeace.html分別找出第一個和所有標注為class=green的<span>標簽内容\n",
    "from urllib.request import urlopen\n",
    "from bs4 import BeautifulSoup\n",
    "html = urlopen(\"http://www.pythonscraping.com/pages/warandpeace.html\")\n",
    "bsObj = BeautifulSoup(html.read(), 'lxml')\n",
    "name = bsObj.find('span', {'class':'green'})\n",
    "print(name.get_text().replace('\\n',' '))\n",
    "print('-'*80)\n",
    "nameList = bsObj.findAll(\"span\", {\"class\":\"green\"})\n",
    "for name in nameList:\n",
    "    print(name.get_text().replace('\\n',' '))"
   ]
  },
  {
   "cell_type": "code",
   "execution_count": 12,
   "metadata": {},
   "outputs": [
    {
     "name": "stdout",
     "output_type": "stream",
     "text": [
      "[<span class=\"red\">Well, Prince, so Genoa and Lucca are now just family estates of the\n",
      "Buonapartes. But I warn you, if you don't tell me that this means war,\n",
      "if you still try to defend the infamies and horrors perpetrated by\n",
      "that Antichrist- I really believe he is Antichrist- I will have\n",
      "nothing more to do with you and you are no longer my friend, no longer\n",
      "my 'faithful slave,' as you call yourself! But how do you do? I see\n",
      "I have frightened you- sit down and tell me all the news.</span>, <span class=\"red\">If you have nothing better to do, Count [or Prince], and if the\n",
      "prospect of spending an evening with a poor invalid is not too\n",
      "terrible, I shall be very charmed to see you tonight between 7 and 10-\n",
      "Annette Scherer.</span>, <span class=\"red\">Heavens! what a virulent attack!</span>, <span class=\"red\">First of all, dear friend, tell me how you are. Set your friend's\n",
      "mind at rest,</span>, <span class=\"red\">Can one be well while suffering morally? Can one be calm in times\n",
      "like these if one has any feeling?</span>, <span class=\"red\">You are\n",
      "staying the whole evening, I hope?</span>, <span class=\"red\">And the fete at the English ambassador's? Today is Wednesday. I\n",
      "must put in an appearance there,</span>, <span class=\"red\">My daughter is\n",
      "coming for me to take me there.</span>, <span class=\"red\">I thought today's fete had been canceled. I confess all these\n",
      "festivities and fireworks are becoming wearisome.</span>, <span class=\"red\">If they had known that you wished it, the entertainment would\n",
      "have been put off,</span>, <span class=\"red\">Don't tease! Well, and what has been decided about Novosiltsev's\n",
      "dispatch? You know everything.</span>, <span class=\"red\">What can one say about it?</span>, <span class=\"red\">What has been decided? They have decided that\n",
      "Buonaparte has burnt his boats, and I believe that we are ready to\n",
      "burn ours.</span>, <span class=\"red\">Oh, don't speak to me of Austria. Perhaps I don't understand\n",
      "things, but Austria never has wished, and does not wish, for war.\n",
      "She is betraying us! Russia alone must save Europe. Our gracious\n",
      "sovereign recognizes his high vocation and will be true to it. That is\n",
      "the one thing I have faith in! Our good and wonderful sovereign has to\n",
      "perform the noblest role on earth, and he is so virtuous and noble\n",
      "that God will not forsake him. He will fulfill his vocation and\n",
      "crush the hydra of revolution, which has become more terrible than\n",
      "ever in the person of this murderer and villain! We alone must\n",
      "avenge the blood of the just one.... Whom, I ask you, can we rely\n",
      "on?... England with her commercial spirit will not and cannot\n",
      "understand the Emperor Alexander's loftiness of soul. She has\n",
      "refused to evacuate Malta. She wanted to find, and still seeks, some\n",
      "secret motive in our actions. What answer did Novosiltsev get? None.\n",
      "The English have not understood and cannot understand the\n",
      "self-abnegation of our Emperor who wants nothing for himself, but only\n",
      "desires the good of mankind. And what have they promised? Nothing! And\n",
      "what little they have promised they will not perform! Prussia has\n",
      "always declared that Buonaparte is invincible, and that all Europe\n",
      "is powerless before him.... And I don't believe a word that Hardenburg\n",
      "says, or Haugwitz either. This famous Prussian neutrality is just a\n",
      "trap. I have faith only in God and the lofty destiny of our adored\n",
      "monarch. He will save Europe!</span>, <span class=\"red\">I think,</span>, <span class=\"red\">that if you had been\n",
      "sent instead of our dear <span class=\"green\">Wintzingerode</span> you would have captured the\n",
      "<span class=\"green\">King of Prussia</span>'s consent by assault. You are so eloquent. Will you\n",
      "give me a cup of tea?</span>, <span class=\"red\">In a moment. A propos,</span>, <span class=\"red\">I am\n",
      "expecting two very interesting men tonight, <span class=\"green\">le Vicomte de Mortemart</span>,\n",
      "who is connected with the <span class=\"green\">Montmorencys</span> through the <span class=\"green\">Rohans</span>, one of\n",
      "the best French families. He is one of the genuine emigres, the good\n",
      "ones. And also the <span class=\"green\">Abbe Morio</span>. Do you know that profound thinker? He\n",
      "has been received by <span class=\"green\">the Emperor</span>. Had you heard?</span>, <span class=\"red\">I shall be delighted to meet them,</span>, <span class=\"red\">But tell me,</span>, <span class=\"red\">is it true that the Dowager Empress wants Baron Funke\n",
      "to be appointed first secretary at Vienna? The baron by all accounts\n",
      "is a poor creature.</span>, <span class=\"red\">Baron Funke has been recommended to the Dowager Empress by her\n",
      "sister,</span>, <span class=\"red\">Now about your family. Do you know that since your daughter came\n",
      "out everyone has been enraptured by her? They say she is amazingly\n",
      "beautiful.</span>, <span class=\"red\">I often think,</span>, <span class=\"red\">I often think how unfairly sometimes the\n",
      "joys of life are distributed. Why has fate given you two such splendid\n",
      "children? I don't speak of <span class=\"green\">Anatole</span>, your youngest. I don't like\n",
      "him,</span>, <span class=\"red\">Two such charming children. And really you appreciate\n",
      "them less than anyone, and so you don't deserve to have them.</span>, <span class=\"red\">I can't help it,</span>, <span class=\"red\">Lavater would have said I\n",
      "lack the bump of paternity.</span>, <span class=\"red\">Don't joke; I mean to have a serious talk with you. Do you know I\n",
      "am dissatisfied with your younger son? Between ourselves</span>, <span class=\"red\">he was mentioned at Her\n",
      "Majesty's and you were pitied....</span>, <span class=\"red\">What would you have me do?</span>, <span class=\"red\">You know I did all\n",
      "a father could for their education, and they have both turned out\n",
      "fools. Hippolyte is at least a quiet fool, but Anatole is an active\n",
      "one. That is the only difference between them.</span>, <span class=\"red\">And why are children born to such men as you? If you were not a\n",
      "father there would be nothing I could reproach you with,</span>, <span class=\"red\">I am your faithful slave and to you alone I can confess that my\n",
      "children are the bane of my life. It is the cross I have to bear. That\n",
      "is how I explain it to myself. It can't be helped!</span>]\n",
      "--------------------------------------------------------------------------------\n"
     ]
    }
   ],
   "source": [
    "# 請在http://www.pythonscraping.com/pages/warandpeace.html完成以下任務\n",
    "# 找出所有<h1>,<h2>,<h3>的標簽内容\n",
    "# 找出所有文字是the prince的標簽内容\n",
    "# 找出有指定class='green'的標簽内容\n",
    "# 找出有指定class='green'和class='red'的<span>標簽内容\n",
    "# 找出有指定id='text'的標簽内容\n",
    "#findAll(tag, attributes, recursive, text, limit, keywords)\n",
    "#find(tag, attributes, recursive, text, keywords)\n",
    "# hText = bsObj.findAll({\"h1\",\"h2\",\"h3\"})\n",
    "# print(hText)\n",
    "# for ht in hText:\n",
    "#     print(ht.get_text())\n",
    "# print('-'*80)\n",
    "# nameList = bsObj.findAll(text=\"the prince\")\n",
    "# print(nameList)\n",
    "# print(len(nameList))\n",
    "# print('-'*80)\n",
    "# txtGreen1 = bsObj.findAll(class_=\"green\")\n",
    "# print(txtGreen1)\n",
    "# print('*'*40)\n",
    "# txtGreen2 = bsObj.findAll('',{'class':'green'})\n",
    "# print(txtGreen2)\n",
    "# print('-'*80)\n",
    "rgList = bsObj.findAll(\"span\", {\"class\":\"green\", \"class\":\"red\"})\n",
    "print(rgList)\n",
    "print('-'*80)\n",
    "# allText1 = bsObj.findAll(id=\"text\")\n",
    "# print(allText1)\n",
    "# print(allText1[0].get_text())\n",
    "# print('*'*40)\n",
    "# allText2 = bsObj.findAll(\"\", {\"id\":\"text\"})\n",
    "# print(allText2)\n",
    "# print('-'*80)"
   ]
  },
  {
   "cell_type": "markdown",
   "metadata": {},
   "source": [
    "# 漫游HTML樹\n",
    "#利用bsobj.children\n",
    "#利用bsobj.descendants\n",
    "#利用bsobj.next_siblings\n",
    "#利用bsobj.previous_siblings\n",
    "#利用bsobj.parent"
   ]
  },
  {
   "cell_type": "code",
   "execution_count": 13,
   "metadata": {},
   "outputs": [
    {
     "data": {
      "image/png": "[encoded data removed]",
      "text/plain": [
       "<Figure size 432x288 with 1 Axes>"
      ]
     },
     "metadata": {
      "needs_background": "light"
     },
     "output_type": "display_data"
    }
   ],
   "source": [
    "# 請在http://www.pythonscraping.com/pages/page3.html中找出所有商品品項與價格.\n",
    "img1 = skio.imread('C:/Users/USER/Desktop/夢想的價值/Python/自學/SCRAPER-1.png')\n",
    "plt.imshow(img1)\n",
    "plt.show()"
   ]
  },
  {
   "cell_type": "code",
   "execution_count": 14,
   "metadata": {},
   "outputs": [
    {
     "name": "stdout",
     "output_type": "stream",
     "text": [
      "項目名稱1： Vegetable Basket 價格： $15.00\n",
      "項目名稱2： Russian Nesting Dolls 價格： $10,000.52\n",
      "項目名稱3： Fish Painting 價格： $10,005.00\n",
      "項目名稱4： Dead Parrot 價格： $0.50\n",
      "項目名稱5： Mystery Box 價格： $1.50\n"
     ]
    }
   ],
   "source": [
    "from urllib.request import urlopen\n",
    "from bs4 import BeautifulSoup\n",
    "html = urlopen(\"http://www.pythonscraping.com/pages/page3.html\")\n",
    "bsObj = BeautifulSoup(html, \"lxml\")\n",
    "gobj = bsObj.findAll(class_='gift')\n",
    "#print(gobj)\n",
    "for j, gift in enumerate(gobj):\n",
    "    #print(j, len(list(gift.children)))\n",
    "    for col, attr in enumerate(gift.children):\n",
    "        if col==0:\n",
    "            print('項目名稱%d：'%(j+1), attr.get_text().replace('\\n',''), end=' ')\n",
    "        if col==2:\n",
    "            print('價格：', attr.get_text().replace('\\n', ''))"
   ]
  },
  {
   "cell_type": "code",
   "execution_count": 15,
   "metadata": {},
   "outputs": [
    {
     "name": "stdout",
     "output_type": "stream",
     "text": [
      "<tr><th>\n",
      "Item Title\n",
      "</th><th>\n",
      "Description\n",
      "</th><th>\n",
      "Cost\n",
      "</th><th>\n",
      "Image\n",
      "</th></tr>\n",
      "<class 'bs4.element.NavigableString'>\n",
      "<class 'bs4.element.Tag'>\n",
      "項目名稱5： Vegetable Basket 價格： $15.00\n",
      "<class 'bs4.element.NavigableString'>\n",
      "<class 'bs4.element.Tag'>\n",
      "項目名稱5： Russian Nesting Dolls 價格： $10,000.52\n",
      "<class 'bs4.element.NavigableString'>\n",
      "<class 'bs4.element.Tag'>\n",
      "項目名稱5： Fish Painting 價格： $10,005.00\n",
      "<class 'bs4.element.NavigableString'>\n",
      "<class 'bs4.element.Tag'>\n",
      "項目名稱5： Dead Parrot 價格： $0.50\n",
      "<class 'bs4.element.NavigableString'>\n",
      "<class 'bs4.element.Tag'>\n",
      "項目名稱5： Mystery Box 價格： $1.50\n",
      "<class 'bs4.element.NavigableString'>\n"
     ]
    }
   ],
   "source": [
    "from urllib.request import urlopen\n",
    "from bs4 import BeautifulSoup, NavigableString\n",
    "html = urlopen(\"http://www.pythonscraping.com/pages/page3.html\")\n",
    "bsObj = BeautifulSoup(html, 'lxml')\n",
    "header = bsObj.find(\"table\",{\"id\":\"giftList\"}).tr\n",
    "print(header)\n",
    "for i, sibling in enumerate(header.next_siblings): #get all table rows of items\n",
    "    print(type(sibling))\n",
    "    if type(sibling)!=NavigableString: #NavigableString are some empty lines between tag elements\n",
    "        cols = sibling.children\n",
    "        for col, attr in enumerate(cols):\n",
    "            if col==0:\n",
    "                print('項目名稱%d：'%(j+1), attr.get_text().replace('\\n',''), end=' ')\n",
    "            if col==2:\n",
    "                print('價格：', attr.get_text().replace('\\n', ''))"
   ]
  },
  {
   "cell_type": "markdown",
   "metadata": {},
   "source": [
    "# 利用正則式搜尋\n",
    "#可定義與特定規律性字串匹配的樣型，使用前須匯入re套件"
   ]
  },
  {
   "cell_type": "code",
   "execution_count": 19,
   "metadata": {},
   "outputs": [
    {
     "data": {
      "image/png": "[encoded data removed]",
      "text/plain": [
       "<Figure size 432x288 with 1 Axes>"
      ]
     },
     "metadata": {
      "needs_background": "light"
     },
     "output_type": "display_data"
    }
   ],
   "source": [
    "img1 = skio.imread('C:/Users/USER/Desktop/夢想的價值/Python/自學/re.png')\n",
    "plt.imshow(img1)\n",
    "plt.show()"
   ]
  },
  {
   "cell_type": "code",
   "execution_count": 20,
   "metadata": {},
   "outputs": [],
   "source": [
    "# 請在http://www.pythonscraping.com/pages/page3.html中找出所有商品影像連結."
   ]
  },
  {
   "cell_type": "code",
   "execution_count": 22,
   "metadata": {},
   "outputs": [
    {
     "data": {
      "image/png": "[encoded data removed]",
      "text/plain": [
       "<Figure size 432x288 with 1 Axes>"
      ]
     },
     "metadata": {
      "needs_background": "light"
     },
     "output_type": "display_data"
    }
   ],
   "source": [
    "img1 = skio.imread('C:/Users/USER/Desktop/夢想的價值/Python/自學/td-image.png')\n",
    "plt.imshow(img1)\n",
    "plt.show()"
   ]
  },
  {
   "cell_type": "code",
   "execution_count": 23,
   "metadata": {},
   "outputs": [
    {
     "name": "stdout",
     "output_type": "stream",
     "text": [
      "../img/gifts/img1.jpg\n",
      "../img/gifts/img2.jpg\n",
      "../img/gifts/img3.jpg\n",
      "../img/gifts/img4.jpg\n",
      "../img/gifts/img6.jpg\n",
      "--------------------------------------------------------------------------------\n",
      "../img/gifts/img1.jpg\n",
      "../img/gifts/img2.jpg\n",
      "../img/gifts/img3.jpg\n",
      "../img/gifts/img4.jpg\n",
      "../img/gifts/img6.jpg\n"
     ]
    }
   ],
   "source": [
    "from urllib.request import urlopen\n",
    "from bs4 import BeautifulSoup\n",
    "import re\n",
    "html = urlopen(\"http://www.pythonscraping.com/pages/page3.html\")\n",
    "bsObj = BeautifulSoup(html, 'lxml')\n",
    "images = bsObj.findAll(\"img\", {\"src\":re.compile(\"\\.\\.\\/img\\/gifts/img.*\\.jpg\")})\n",
    "for image in images:\n",
    "    print(image[\"src\"])\n",
    "print('-'*80)\n",
    "for image in images:\n",
    "    print(image.attrs[\"src\"])"
   ]
  },
  {
   "cell_type": "code",
   "execution_count": 24,
   "metadata": {},
   "outputs": [
    {
     "name": "stdout",
     "output_type": "stream",
     "text": [
      "5\n",
      "ID=gift1 連結=../img/gifts/img1.jpg\n",
      "ID=gift2 連結=../img/gifts/img2.jpg\n",
      "ID=gift3 連結=../img/gifts/img3.jpg\n",
      "ID=gift4 連結=../img/gifts/img4.jpg\n",
      "ID=gift5 連結=../img/gifts/img6.jpg\n"
     ]
    }
   ],
   "source": [
    "# 請在http://www.pythonscraping.com/pages/page3.html中找出所有標簽包含有id為giftX(其中X代表一個或多個數字)的標簽内容.\n",
    "cond = lambda tag: 'id' in tag.keys() \n",
    "result = bsObj.findAll(id = re.compile('gift[0-9]+[0-9]*'))\n",
    "print(len(result))\n",
    "for r in result:\n",
    "    print('ID=%s 連結=%s'%(r['id'], r.img['src']))"
   ]
  },
  {
   "cell_type": "code",
   "execution_count": 25,
   "metadata": {},
   "outputs": [
    {
     "name": "stdout",
     "output_type": "stream",
     "text": [
      "消息1：\n",
      "國立東華大學音樂學系日前舉辦「2019東華大學國際鋼琴音樂營」，來自馬來西亞及臺北市、新北市、高雄市及花蓮縣等10個縣市，從國小四年級至國中、高中、大學、研究所等不同年齡層的學員共聚一堂研習。\n",
      "消息2：\n",
      "「花蓮國際管樂營」是由國立東華大學音樂系、花蓮管樂發展協會與法國歐洲銅管之聲（Eurocuivres）合作辦理，由東華藝術學院劉惠芝院長、音樂學系沈克恕主任策劃，呂彥輝教授擔任總召與計畫執行。為期1週的暑期營隊，師資包含12位來自法國、英國、委內瑞拉，以及14位臺灣的教授演奏家。近百位從國小四年級到60歲的愛樂者學員，來自美國、越南、新加坡、中國大陸、香港及臺灣各地，是不分年齡與程度的銅管、打擊、木管和豎琴演奏者參與的盛會。學員們除提高個人演奏能力外，更在營隊獲得畢生難忘的音樂學習氛圍與經驗。\n"
     ]
    }
   ],
   "source": [
    "# 請從國立東華大學的首頁抓回頭條新聞.\n",
    "from urllib.request import urlopen\n",
    "from bs4 import BeautifulSoup\n",
    "html = urlopen(\"http://www.ndhu.edu.tw/bin/home.php\")\n",
    "bsObj = BeautifulSoup(html, 'lxml')\n",
    "num = 1\n",
    "for link in bsObj.findAll(\"tr\", {'class':re.compile('row_[1-9]+')}):\n",
    "    #print(link)\n",
    "    if link.p is not None:\n",
    "        print('消息%d：\\n%s'%(num, link.p.get_text()))\n",
    "        num += 1"
   ]
  },
  {
   "cell_type": "markdown",
   "metadata": {},
   "source": [
    "# 使用瀏覽器工具找標籖選擇器"
   ]
  },
  {
   "cell_type": "code",
   "execution_count": 26,
   "metadata": {},
   "outputs": [
    {
     "name": "stdout",
     "output_type": "stream",
     "text": [
      "資訊工程學系學士班資工組\n",
      "正取名單：\n",
      "　10306516 王翊丞\n",
      "　10030438 郭育廷\n",
      "　10053533 陳靖雯\n",
      "　10029516 陳俊瑜\n",
      "　10076401 李軍磊\n",
      "　10063513 呂順成\n",
      "　10012329 蔡祐隼\n",
      "　10320416 林莉涓\n",
      "　10314417 林思婷\n",
      "　10213416 洪嘉鴻\n",
      "　10321033 陳璿文\n",
      "　10081931 林芮慶\n",
      "　10099416 湯瀚文\n",
      "　10299114 陳雲瑾\n",
      "　10128631 徐浩揚\n",
      "　10033629 高孟霆\n",
      "　10060437 謝明雄\n",
      "　10054603 歐陽恩哲\n",
      "備取名單：\n",
      "　10310131 黃智炫\n",
      "　10010313 施政安\n",
      "　10048125 劉　杰\n",
      "　10072127 林睿雍\n",
      "　10240302 田晨揚\n",
      "　10306426 徐邦傑\n",
      "　10247436 翁賢灝\n",
      "　10135738 陳彥綸\n",
      "　10004503 黃楷淳\n",
      "　10048630 凃淯翔\n",
      "　10029818 陳力哲\n",
      "　10143124 王昱夫\n",
      "　10112334 莊博凱\n",
      "　10166618 方　傑\n",
      "　10026931 方雍憲\n",
      "　10061129 陳瑞寶\n",
      "　10313216 郭鎧毓\n",
      "　10032920 林依樺\n",
      "　10274927 郭啟仁\n",
      "　10043807 翁瑋聰\n",
      "　10000101 高子軒\n",
      "　10139817 陳宏宇\n",
      "　10143228 羅　傑\n",
      "　10061517 楊金榮\n",
      "　10113415 詹東昇\n",
      "　10163733 黃宇翔\n",
      "　10290837 錢品竹\n",
      "　10269416 鍾秉宏\n",
      "　10205537 馮伯誠\n",
      "　10279936 劉宥緯\n",
      "　10284816 洪英哲\n",
      "　10281901 吳孟潔\n",
      "　10312231 蘇伯雨\n",
      "外加名額：\n",
      "　10317802 薛容恩\n",
      "================================================================================\n",
      "資訊工程學系學士班國際組\n",
      "正取名單：\n",
      "　10316828 常曉夫\n",
      "　10090228 鄭旭文\n",
      "　10073332 楊智崴\n",
      "　10283018 黃淳彥\n",
      "　10037812 李冠廷\n",
      "　10081936 康彣綾\n",
      "　10315928 林展恩\n",
      "　10027507 謝　霆\n",
      "備取名單：\n",
      "　10030016 陳柏堯\n",
      "　10069605 梁育赫\n",
      "　10028928 廖大有\n",
      "　10050306 林家淇\n",
      "　10092607 郭弘明\n",
      "　10262902 黃煜鄺\n",
      "　10048714 林厚實\n",
      "　10198830 陳威儒\n",
      "　10288030 陳禹叡\n",
      "　10231403 廖哲賢\n",
      "　10268941 王子衡\n",
      "================================================================================\n"
     ]
    }
   ],
   "source": [
    "# 請從國立東華大學放榜網頁(http://aaexam.ndhu.edu.tw/files/107Ex/107sel0427/034_PassList/pass_034.htm) 抓回資工系的榜單.\n",
    "from urllib.request import urlopen\n",
    "from bs4 import BeautifulSoup, NavigableString\n",
    "\n",
    "url = \"http://aaexam.ndhu.edu.tw/files/107Ex/107sel0427/034_PassList/pass_034.htm\"\n",
    "def getNames(bsObj, dept):\n",
    "    global url\n",
    "    links = bsObj.findAll('a')\n",
    "    for lnk in links:\n",
    "        if dept in lnk.get_text():\n",
    "            print(lnk.get_text())\n",
    "            target = lnk['href']\n",
    "#             print(target)\n",
    "            new_url = url.replace('pass_034.htm','') + '/' + lnk['href']\n",
    "#             print(new_url)    \n",
    "            new_bsObj = BeautifulSoup(urlopen(new_url), 'lxml')\n",
    "            tables = new_bsObj.findAll('table')\n",
    "            for i, table in enumerate(tables):\n",
    "#                 print(table)\n",
    "                names = table.findAll('td')\n",
    "                if i==0:\n",
    "                    print('正取名單：')\n",
    "                elif i==1:\n",
    "                    print('備取名單：')\n",
    "                else:\n",
    "                    print('外加名額：')\n",
    "                for name in names:\n",
    "                    print(name.get_text())\n",
    "            print('='*80)\n",
    "\n",
    "\n",
    "html = urlopen(url)\n",
    "bsObj = BeautifulSoup(html, 'lxml')\n",
    "names = getNames(bsObj, '資訊工程')"
   ]
  },
  {
   "cell_type": "code",
   "execution_count": 27,
   "metadata": {},
   "outputs": [
    {
     "name": "stdout",
     "output_type": "stream",
     "text": [
      "( 1) 守護「黑暗夜空」合歡山獲國際認證\n",
      "( 2) 馬英九開口了：盼韓郭坐下來談 https://tw.news.yahoo.com//%E9%A6%AC%E8%8B%B1%E4%B9%9D%E7%9B%BC%E9%9F%93%E9%83%AD%E5%9D%90%E4%B8%8B%E4%BE%86%E8%AB%87-%E4%B8%BB%E5%BC%B5%E4%B8%8D%E5%90%8C%E4%BB%8D%E5%8F%AF%E5%90%88%E4%BD%9C-080325785.html\n",
      "( 3) 周品均：東京著衣可以還我嗎？ https://tw.news.yahoo.com//%E6%9D%B1%E4%BA%AC%E8%91%97%E8%A1%A3%E4%BD%B5%E8%B3%BC%E6%B6%89%E5%85%A7%E7%B7%9A%E4%BA%A4%E6%98%93-%E5%91%A8%E5%93%81%E5%9D%87%E6%B2%92%E6%9C%89%E8%A6%81%E5%A5%BD%E5%A5%BD%E7%B6%93%E7%87%9F-%E5%8F%AF%E4%BB%A5%E9%82%84%E6%88%91%E5%97%8E-020303411.html\n",
      "( 4) 遭日踢出「白色名單」韓反擊了 https://tw.news.yahoo.com//%E5%8F%8D%E5%88%B6%E6%9D%B1%E4%BA%AC-%E5%8D%97%E9%9F%93%E4%B9%9F%E5%B0%87%E6%97%A5%E6%9C%AC%E8%B8%A2%E5%87%BA%E7%99%BD%E8%89%B2%E5%90%8D%E5%96%AE-085915381.html\n",
      "( 5) 冷氣吹2個月僅千元？專家說話了 https://tw.news.yahoo.com//%E5%86%B7%E6%B0%A3%E7%88%BD%E5%90%B92%E6%9C%88%E6%9C%80%E7%9C%81%E7%88%86%E6%98%AF%E5%81%87%E7%9A%84-%E6%8A%80%E5%B8%AB%E6%8A%96%E8%B3%A0%E6%9B%B4%E5%A4%9A%E7%9C%9F%E7%9B%B8-141700821.html\n",
      "( 6) 柯P不是蔣渭水：等待填空的黨 https://tw.news.yahoo.com//%E6%9F%AF%E6%96%87%E5%93%B2%E4%B8%8D%E6%98%AF%E8%94%A3%E6%B8%AD%E6%B0%B4%E4%B8%80%E5%80%8B%E7%AD%89%E5%BE%85%E5%A1%AB%E7%A9%BA%E7%9A%84%E9%BB%A8-074038425.html\n",
      "( 7) 網友嗆殺柯文哲 北市刑大追IP https://tw.news.yahoo.com//video/%E6%9F%AF%E7%B5%84-%E5%8F%B0%E6%B0%91%E9%BB%A8-%E5%B0%B1%E6%94%B6%E5%97%86%E6%AE%BA%E4%BB%A4-%E5%8C%97%E5%B8%82%E5%88%91%E5%A4%A7%E8%BF%BDip-053143856.html\n",
      "( 8) 政治立場不同 2人公車上演全武行 https://tw.news.yahoo.com//video/%E8%AA%87%E5%BC%B5-%E5%9B%A0%E6%94%BF%E6%B2%BB%E7%AB%8B%E5%A0%B4%E4%B8%8D%E5%90%8C-2%E4%BA%BA%E5%85%AC%E8%BB%8A%E4%B8%8A%E6%BC%94%E5%85%A8%E6%AD%A6%E8%A1%8C-043950030.html\n",
      "( 9) 私菸案千條大戶：幫親友代購 https://tw.news.yahoo.com//%E7%A7%81%E8%8F%B8%E6%A1%88%E5%8D%83%E6%A2%9D%E5%A4%A7%E6%88%B6-%E5%B9%AB%E8%A6%AA%E5%8F%8B%E4%BB%A3%E8%B3%BC-%E7%99%BE%E8%90%AC%E5%85%83%E8%BD%89%E5%B8%B3%E7%B5%A6%E5%90%B3%E5%AE%97%E6%86%B2-214240131.html\n",
      "(10) 林昶佐：林飛帆第一時間打給我 https://tw.news.yahoo.com//%E6%9C%89%E8%A2%AB%E6%B0%91%E9%80%B2%E9%BB%A8%E9%82%80%E5%85%A5%E9%BB%A8-%E6%9E%97%E6%98%B6%E4%BD%90%E7%88%86-%E6%9E%97%E9%A3%9B%E5%B8%86%E7%AC%AC-%E6%99%82%E9%96%93%E6%89%93%E7%B5%A6%E6%88%91-020006874.html\n",
      "(11) 都更？傳70年陽明戲院將熄燈 https://tw.news.yahoo.com//70%E5%B9%B4%E5%A3%AB%E6%9E%97%E9%99%BD%E6%98%8E%E6%88%B2%E9%99%A2%E7%86%84%E7%87%88-%E5%82%B3%E9%83%BD%E6%9B%B4%E6%94%B9%E5%BB%BA%E6%88%909%E6%A8%93%E5%BB%A3%E5%A0%B4-043400858.html\n"
     ]
    }
   ],
   "source": [
    "# 請從奇摩新聞網頁(http://tw.news.yahoo.com) 抓回頭條新聞列表(含連結).\n",
    "import urllib\n",
    "from urllib.request import urlopen\n",
    "from bs4 import BeautifulSoup\n",
    "import re\n",
    "import lxml.html as HTML \n",
    "\n",
    "url = 'https://tw.news.yahoo.com/'\n",
    "req = urllib.request.Request(url)\n",
    "req.add_header('User-Agent', 'Mozilla/5.0 (Windows; U; Windows NT 6.1; en-US; rv:1.9.1.5) Chrome/35.0.1916.47')  # Add fake client\n",
    "response = urlopen(req)\n",
    "bsobj = BeautifulSoup(response.read(), 'lxml')\n",
    "link = bsobj.find(id='Col1-1-Hero-Proxy').find('div').find('ul').find('li')\n",
    "print('( 1)', link.get_text())\n",
    "links = bsobj.find(id='Col1-1-Hero-Proxy').find('div').find('ul').find('ul').findAll('li')\n",
    "for i,lnk in enumerate(links):\n",
    "    anch = lnk.find('a')\n",
    "    print('(%2d)'%(i+2), lnk.get_text(), url+anch['href'])"
   ]
  },
  {
   "cell_type": "code",
   "execution_count": null,
   "metadata": {},
   "outputs": [],
   "source": []
  }
 ],
 "metadata": {
  "kernelspec": {
   "display_name": "Python 3",
   "language": "python",
   "name": "python3"
  },
  "language_info": {
   "codemirror_mode": {
    "name": "ipython",
    "version": 3
   },
   "file_extension": ".py",
   "mimetype": "text/x-python",
   "name": "python",
   "nbconvert_exporter": "python",
   "pygments_lexer": "ipython3",
   "version": "3.7.3"
  }
 },
 "nbformat": 4,
 "nbformat_minor": 2
}
