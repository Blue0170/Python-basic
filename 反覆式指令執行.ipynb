{
 "cells": [
  {
   "cell_type": "markdown",
   "metadata": {},
   "source": [
    "# 當 ... 就 ..."
   ]
  },
  {
   "cell_type": "markdown",
   "metadata": {},
   "source": [
    "#while 某條件成立:\n",
    "    指令區塊\n",
    "#* while 最後面的冒號很重要\n",
    "#* 指令區塊要縮排\n",
    "#* 重複做幾次未必能事先預知"
   ]
  },
  {
   "cell_type": "code",
   "execution_count": 4,
   "metadata": {},
   "outputs": [
    {
     "name": "stdout",
     "output_type": "stream",
     "text": [
      "1\n",
      "2\n",
      "3\n",
      "4\n",
      "5\n",
      "6\n",
      "7\n",
      "8\n",
      "9\n",
      "10\n"
     ]
    }
   ],
   "source": [
    "# 【練習】寫一程式從1印到10。\n",
    "n = 1\n",
    "while n<=10:\n",
    "    print(n)\n",
    "    n += 1"
   ]
  },
  {
   "cell_type": "code",
   "execution_count": 5,
   "metadata": {},
   "outputs": [
    {
     "name": "stdout",
     "output_type": "stream",
     "text": [
      "請輸入下一筆收入（負值代表停止輸入）：30000\n",
      "請輸入下一筆收入（負值代表停止輸入）：-1\n",
      "總共1筆收入，總額為30000\n"
     ]
    }
   ],
   "source": [
    "# 【練習】寫一程式逐一讀取個人收入資料（每次讀入一筆），直到輸入的成績為負值為止，然後計算總收入值。\n",
    "\n",
    "\n",
    "total = 0\n",
    "n = 0\n",
    "income = float(input('請輸入下一筆收入（負值代表停止輸入）：'))\n",
    "while income>0:\n",
    "    total += income\n",
    "    n += 1\n",
    "    income = float(input('請輸入下一筆收入（負值代表停止輸入）：'))\n",
    "print('總共%d筆收入，總額為%d'%(n, total))"
   ]
  },
  {
   "cell_type": "code",
   "execution_count": 6,
   "metadata": {},
   "outputs": [
    {
     "name": "stdout",
     "output_type": "stream",
     "text": [
      "請輸入成績序列（以空格隔開）：90 98 100\n",
      "平均分數 = 96.0\n",
      "低於平均分的有： 90 "
     ]
    }
   ],
   "source": [
    "# 【練習】寫一程式從一行中讀取一序列任意個數的成績資料，計算出平均分數，然後過濾出所有低於平均分數的成績。\n",
    "name = input('請輸入成績序列（以空格隔開）：').split()\n",
    "total = 0\n",
    "n = 0\n",
    "while n < len(name):\n",
    "    total += float(name[n])\n",
    "    n += 1\n",
    "avg = total/n\n",
    "print('平均分數 =', avg)\n",
    "print('低於平均分的有：', end=' ')\n",
    "k = 0\n",
    "while k < len(name):\n",
    "    if float(name[k])<avg:\n",
    "        print(name[k], end=' ')\n",
    "    k += 1"
   ]
  },
  {
   "cell_type": "code",
   "execution_count": 8,
   "metadata": {},
   "outputs": [
    {
     "name": "stdout",
     "output_type": "stream",
     "text": [
      "請輸入二數字（以空格隔開）：12 17\n",
      "12和17的最大公因數為1\n"
     ]
    }
   ],
   "source": [
    "# 【練習】求M, N的最大公因數\n",
    "m, n = input('請輸入二數字（以空格隔開）：').split()\n",
    "m, n = int(m), int(n)\n",
    "gcd = 1\n",
    "k = 1\n",
    "while k<m and k<n:\n",
    "    if m%k==0 and n%k==0:\n",
    "        gcd = k\n",
    "    k += 1\n",
    "print('%d和%d的最大公因數為%d'%(m, n, gcd))"
   ]
  },
  {
   "cell_type": "code",
   "execution_count": 35,
   "metadata": {},
   "outputs": [
    {
     "name": "stdout",
     "output_type": "stream",
     "text": [
      "請猜一個介於1到100間的數字：50\n",
      "太小了啦！請猜一個介於51到100間的數字：70\n",
      "69\n",
      "太大了啦！請猜一個介於51到69間的數字：60\n",
      "太小了啦！請猜一個介於61到69間的數字：65\n",
      "Bingo!\n",
      "遊戲結束！\n"
     ]
    }
   ],
   "source": [
    "# 【練習】設計一個終極密碼猜數字遊戲。\n",
    "import random\n",
    "password = random.randint(1, 100)\n",
    "hit = True #False\n",
    "low, high = 1, 100\n",
    "print('請猜一個介於%d到%d間的數字：'%(low, high), end='')\n",
    "answer = int(input())\n",
    "while  hit: #not hit\n",
    "    if answer==password:\n",
    "        print('Bingo!')\n",
    "        hit = False #True\n",
    "    elif answer<password:\n",
    "        low = answer+1\n",
    "        print('太小了啦！請猜一個介於%d到%d間的數字：'%(low, high), end='')\n",
    "        answer = int(input())\n",
    "    else:\n",
    "        high = answer-1\n",
    "        print(high)\n",
    "        print('太大了啦！請猜一個介於%d到%d間的數字：'%(low, high), end='')\n",
    "        answer = int(input())\n",
    "print('遊戲結束！')"
   ]
  },
  {
   "cell_type": "markdown",
   "metadata": {},
   "source": [
    "# 計數器迴圈"
   ]
  },
  {
   "cell_type": "markdown",
   "metadata": {},
   "source": [
    "for 變數 in 資料序列/串列:\n",
    "    指令區塊\n",
    "#* for 最後面的冒號很重要\n",
    "#* 指令區塊要記得縮排\n",
    "#* 反覆次數可以預知"
   ]
  },
  {
   "cell_type": "code",
   "execution_count": 10,
   "metadata": {},
   "outputs": [
    {
     "name": "stdout",
     "output_type": "stream",
     "text": [
      "1\n",
      "2\n",
      "3\n",
      "4\n",
      "5\n",
      "6\n",
      "7\n",
      "8\n",
      "9\n",
      "10\n",
      "1\n",
      "2\n",
      "3\n",
      "4\n",
      "5\n",
      "6\n",
      "7\n",
      "8\n",
      "9\n",
      "10\n"
     ]
    }
   ],
   "source": [
    "# 【練習】寫一程式從1印到10。\n",
    "for n in range(1, 11):\n",
    "    print(n)\n",
    "    \n",
    "for n in [1, 2, 3, 4, 5, 6, 7, 8, 9, 10]:\n",
    "    print(n)"
   ]
  },
  {
   "cell_type": "code",
   "execution_count": 38,
   "metadata": {},
   "outputs": [
    {
     "name": "stdout",
     "output_type": "stream",
     "text": [
      "結果為 45.124450303050196\n"
     ]
    }
   ],
   "source": [
    "# 【練習】寫一個程式計算\n",
    "# 1/3+3/5+5/7+7/9+...+95/97+97/99\n",
    "total = 0\n",
    "for i in range(1, 98, 2):\n",
    "    total += i/(i+2)\n",
    "print('結果為', total)"
   ]
  },
  {
   "cell_type": "code",
   "execution_count": 12,
   "metadata": {},
   "outputs": [
    {
     "name": "stdout",
     "output_type": "stream",
     "text": [
      "請輸入N：5\n",
      "5! =120\n"
     ]
    }
   ],
   "source": [
    "# 【練習】寫一個程式計算N！\n",
    "n = int(input('請輸入N：'))\n",
    "product = 1\n",
    "for i in range(1, n+1):\n",
    "    product *= i\n",
    "print('%d! =%d'%(n,product))"
   ]
  },
  {
   "cell_type": "code",
   "execution_count": 13,
   "metadata": {},
   "outputs": [
    {
     "name": "stdout",
     "output_type": "stream",
     "text": [
      "請輸入本金、利率和年數：1000 5 10\n",
      "10年後本利和 = 1628.894627元\n"
     ]
    }
   ],
   "source": [
    "# 【練習】銀行定存利率為R%，如果存入本金C元，請問Y年後本利和是多少？\n",
    "C, R, Y = input('請輸入本金、利率和年數：').split()\n",
    "C, R, Y = float(C), float(R), int(Y)\n",
    "for i in range(1, Y+1):\n",
    "    C = (1+R/100)*C\n",
    "print('%d年後本利和 = %f元'%(Y, C))"
   ]
  },
  {
   "cell_type": "code",
   "execution_count": 40,
   "metadata": {},
   "outputs": [
    {
     "name": "stdout",
     "output_type": "stream",
     "text": [
      "請輸入一數字：101\n",
      "101是質數。\n"
     ]
    }
   ],
   "source": [
    "# 【練習】輸入一個數字N，請判斷它是否為質數。\n",
    "import math\n",
    "N = int(input('請輸入一數字：'))\n",
    "if N==2:\n",
    "    print('2不是質數。')\n",
    "else:\n",
    "    answer = '是'\n",
    "    for i in range(2, math.ceil(N**0.5)+1):\n",
    "        if N%i == 0:\n",
    "            answer = '不是'\n",
    "            print(i)\n",
    "    print('%d%s質數。'%(N, answer))"
   ]
  },
  {
   "cell_type": "code",
   "execution_count": 15,
   "metadata": {},
   "outputs": [
    {
     "name": "stdout",
     "output_type": "stream",
     "text": [
      "請輸入男女資料：0 0 1 1 1\n",
      "男生：3位，女生：2位。\n"
     ]
    }
   ],
   "source": [
    "# 【練習】輸入一行資料，裡面有許多0和1，0代表一個女生，1代表一個男生，請統計男女總共各有幾位。\n",
    "data = input('請輸入男女資料：').split()\n",
    "boys, girls = 0, 0\n",
    "for i in range(len(data)):\n",
    "    if data[i]=='0':\n",
    "        girls += 1\n",
    "    else:\n",
    "        boys += 1\n",
    "print('男生：%d位，女生：%d位。'%(boys, girls))"
   ]
  },
  {
   "cell_type": "code",
   "execution_count": 16,
   "metadata": {},
   "outputs": [
    {
     "name": "stdout",
     "output_type": "stream",
     "text": [
      "請問要模擬擲出幾次骰子？6\n",
      "1點出現：1次\n",
      "2點出現：1次\n",
      "3點出現：2次\n",
      "4點出現：0次\n",
      "5點出現：2次\n",
      "6點出現：0次\n"
     ]
    }
   ],
   "source": [
    "# 【練習】寫一個程式模擬擲骰子，檢驗是否出現1到6點的機率為一樣。\n",
    "import random\n",
    "n = int(input('請問要模擬擲出幾次骰子？'))\n",
    "freqs = [0]*6 # [0, 0, 0, 0, 0, 0]：表示1到6點出現的總次數\n",
    "for i in range(n):\n",
    "    dice = random.randint(1, 6)\n",
    "    freqs[dice-1] += 1\n",
    "for i in range(6):\n",
    "    print('%d點出現：%d次'%(i+1,freqs[i]))"
   ]
  },
  {
   "cell_type": "markdown",
   "metadata": {},
   "source": [
    "# 雙層迴圈\n",
    "for 外層技術變數 in 外層資料序列/串列:\n",
    "\n",
    "    for 內層技術變數 in 內層資料序列/串列:\n",
    "        指令區塊\n",
    "while 外層迴圈條件:\n",
    "\n",
    "    while 內層迴圈條件:\n",
    "        指令區塊\n",
    "* for、while 最後面的冒號很重要\n",
    "* 外層指令區塊要縮排一層，內層的指令區塊要縮排二層"
   ]
  },
  {
   "cell_type": "code",
   "execution_count": 18,
   "metadata": {},
   "outputs": [
    {
     "name": "stdout",
     "output_type": "stream",
     "text": [
      " 1 x  1 =  1\n",
      " 1 x  2 =  2\n",
      " 1 x  3 =  3\n",
      " 1 x  4 =  4\n",
      " 1 x  5 =  5\n",
      " 1 x  6 =  6\n",
      " 1 x  7 =  7\n",
      " 1 x  8 =  8\n",
      " 1 x  9 =  9\n",
      "---------------\n",
      " 2 x  1 =  2\n",
      " 2 x  2 =  4\n",
      " 2 x  3 =  6\n",
      " 2 x  4 =  8\n",
      " 2 x  5 = 10\n",
      " 2 x  6 = 12\n",
      " 2 x  7 = 14\n",
      " 2 x  8 = 16\n",
      " 2 x  9 = 18\n",
      "---------------\n",
      " 3 x  1 =  3\n",
      " 3 x  2 =  6\n",
      " 3 x  3 =  9\n",
      " 3 x  4 = 12\n",
      " 3 x  5 = 15\n",
      " 3 x  6 = 18\n",
      " 3 x  7 = 21\n",
      " 3 x  8 = 24\n",
      " 3 x  9 = 27\n",
      "---------------\n",
      " 4 x  1 =  4\n",
      " 4 x  2 =  8\n",
      " 4 x  3 = 12\n",
      " 4 x  4 = 16\n",
      " 4 x  5 = 20\n",
      " 4 x  6 = 24\n",
      " 4 x  7 = 28\n",
      " 4 x  8 = 32\n",
      " 4 x  9 = 36\n",
      "---------------\n",
      " 5 x  1 =  5\n",
      " 5 x  2 = 10\n",
      " 5 x  3 = 15\n",
      " 5 x  4 = 20\n",
      " 5 x  5 = 25\n",
      " 5 x  6 = 30\n",
      " 5 x  7 = 35\n",
      " 5 x  8 = 40\n",
      " 5 x  9 = 45\n",
      "---------------\n",
      " 6 x  1 =  6\n",
      " 6 x  2 = 12\n",
      " 6 x  3 = 18\n",
      " 6 x  4 = 24\n",
      " 6 x  5 = 30\n",
      " 6 x  6 = 36\n",
      " 6 x  7 = 42\n",
      " 6 x  8 = 48\n",
      " 6 x  9 = 54\n",
      "---------------\n",
      " 7 x  1 =  7\n",
      " 7 x  2 = 14\n",
      " 7 x  3 = 21\n",
      " 7 x  4 = 28\n",
      " 7 x  5 = 35\n",
      " 7 x  6 = 42\n",
      " 7 x  7 = 49\n",
      " 7 x  8 = 56\n",
      " 7 x  9 = 63\n",
      "---------------\n",
      " 8 x  1 =  8\n",
      " 8 x  2 = 16\n",
      " 8 x  3 = 24\n",
      " 8 x  4 = 32\n",
      " 8 x  5 = 40\n",
      " 8 x  6 = 48\n",
      " 8 x  7 = 56\n",
      " 8 x  8 = 64\n",
      " 8 x  9 = 72\n",
      "---------------\n",
      " 9 x  1 =  9\n",
      " 9 x  2 = 18\n",
      " 9 x  3 = 27\n",
      " 9 x  4 = 36\n",
      " 9 x  5 = 45\n",
      " 9 x  6 = 54\n",
      " 9 x  7 = 63\n",
      " 9 x  8 = 72\n",
      " 9 x  9 = 81\n",
      "---------------\n"
     ]
    }
   ],
   "source": [
    "# 【練習】請輸出九九乘法表。\n",
    "for i in range(1, 10):\n",
    "    for j in range(1, 10):\n",
    "        print('%2d x %2d = %2d'%(i, j, i*j))\n",
    "    print('-'*15)"
   ]
  },
  {
   "cell_type": "code",
   "execution_count": 19,
   "metadata": {},
   "outputs": [
    {
     "name": "stdout",
     "output_type": "stream",
     "text": [
      "請輸入N：12\n",
      "\n",
      "1\n",
      "12\n",
      "123\n",
      "1234\n",
      "12345\n",
      "123456\n",
      "1234567\n",
      "12345678\n",
      "123456789\n",
      "12345678910\n",
      "1234567891011\n",
      "123456789101112\n"
     ]
    }
   ],
   "source": [
    "# 【練習】請輸入數字N，然後輸出以下三角形的圖樣。例如N=5，則\n",
    "1\n",
    "12\n",
    "123\n",
    "1234\n",
    "12345\n",
    "n = int(input('請輸入N：'))\n",
    "for i in range(n+1):\n",
    "    for j in range(i):\n",
    "        print(j+1, end='')\n",
    "    print()"
   ]
  },
  {
   "cell_type": "code",
   "execution_count": 21,
   "metadata": {},
   "outputs": [
    {
     "name": "stdout",
     "output_type": "stream",
     "text": [
      "                                   1\n",
      "                               1   2   1\n",
      "                           1   2   4   2   1\n",
      "                       1   2   4   8   4   2   1\n",
      "                   1   2   4   8  16   8   4   2   1\n",
      "               1   2   4   8  16  32  16   8   4   2   1\n",
      "           1   2   4   8  16  32  64  32  16   8   4   2   1\n",
      "       1   2   4   8  16  32  64 128  64  32  16   8   4   2   1\n"
     ]
    }
   ],
   "source": [
    "# 【練習】請輸出以下的圖樣。\n",
    "#                                    1\n",
    "#                                1   2   1\n",
    "#                            1   2   4   2   1\n",
    "#                        1   2   4   8   4   2   1\n",
    "#                    1   2   4   8  16   8   4   2   1\n",
    "#                1   2   4   8  16  32  16   8   4   2   1\n",
    "#            1   2   4   8  16  32  64  32  16   8   4   2   1\n",
    "#        1   2   4   8  16  32  64 128  64  32  16   8   4   2   1\n",
    "# 《請注意》 倒數迴圈\n",
    "# for 變數 in range(a, b, -c):\n",
    "#     指令區塊\n",
    "# 其中a>b,且c>0 </span>\n",
    "for i in range(8):\n",
    "    print((8-i)*'    ', end='')\n",
    "    for j in range(i): #印左半邊\n",
    "        print('%4d'%(2**(abs(j))), end='')\n",
    "    for j in range(i, -1, -1): #印右半邊\n",
    "        print('%4d'%(2**(abs(j))), end='')\n",
    "    print()"
   ]
  },
  {
   "cell_type": "code",
   "execution_count": 22,
   "metadata": {},
   "outputs": [
    {
     "name": "stdout",
     "output_type": "stream",
     "text": [
      "6\n",
      "28\n",
      "496\n",
      "8128\n"
     ]
    }
   ],
   "source": [
    "# 【練習】一個數字如果是它的因數的總和，則這個數字被稱為是完美數（Perfect Number），例如6的因數是1、2、3，而1+2+3=6，所以6是完美數： 請寫一程式，找出1到10000以內的完美數。\n",
    "import math\n",
    "for n in range(1, 10001):\n",
    "    m = n\n",
    "    for i in range((n//2), 0, -1):\n",
    "        if n%i==0:\n",
    "            m -= i\n",
    "    if m==0:\n",
    "        print(n)        "
   ]
  },
  {
   "cell_type": "code",
   "execution_count": 41,
   "metadata": {},
   "outputs": [
    {
     "name": "stdout",
     "output_type": "stream",
     "text": [
      "              August 2018              \n",
      "-------------------------------------\n",
      "  Sun  Mon  Tue  Wed  Thu  Fri  Sat\n",
      "                   1    2    3    4\n",
      "    5    6    7    8    9   10   11\n",
      "   12   13   14   15   16   17   18\n",
      "   19   20   21   22   23   24   25\n",
      "   26   27   28   29   30   31"
     ]
    }
   ],
   "source": [
    "# 【練習】已知2005年一月一日是星期六，請印出當月的月曆如下：\n",
    "#              January 2005              \n",
    "# -------------------------------------\n",
    "#   Sun  Mon  Tue  Wed  Thu  Fri  Sat\n",
    "#                                   1\n",
    "#     2    3    4    5    6    7    8\n",
    "#     9   10   11   12   13   14   15\n",
    "#    16   17   18   19   20   21   22\n",
    "#    23   24   25   26   27   28   29\n",
    "#    30   31\n",
    "Y, M, W = 2108, 8, 3\n",
    "print('{0:^39s}'.format('August 2018'))\n",
    "print('-------------------------------------')\n",
    "print('  Sun  Mon  Tue  Wed  Thu  Fri  Sat')\n",
    "k = W\n",
    "print('     '*W, end='')\n",
    "for d in range(1, 32):\n",
    "    print('%5d'%d, end='')\n",
    "    k += 1\n",
    "    if (k%7==0):\n",
    "        print()"
   ]
  },
  {
   "cell_type": "code",
   "execution_count": 24,
   "metadata": {},
   "outputs": [
    {
     "name": "stdout",
     "output_type": "stream",
     "text": [
      "5 60\n",
      "5 7 11 13 17 19 23 29 31 37 41 43 47 53 59 "
     ]
    }
   ],
   "source": [
    "# 【練習】請輸出 M 到 N 間的質數。\n",
    "import math\n",
    "m, n = input().split()\n",
    "m, n = int(m), int(n)\n",
    "for n in range(m, n+1):\n",
    "    prime = True\n",
    "    if n==1 or n==2:\n",
    "        prime = False\n",
    "    elif n>2:\n",
    "        for j in range(2, math.ceil(n**0.5)+1):\n",
    "            if n%j == 0:\n",
    "                prime = False\n",
    "    if prime:\n",
    "        print(n, end=' ')"
   ]
  },
  {
   "cell_type": "code",
   "execution_count": 42,
   "metadata": {},
   "outputs": [
    {
     "name": "stdout",
     "output_type": "stream",
     "text": [
      "11 13 14 16 17 30 31 32 34 35 37 38 50 70 71 73 74 76 79 91 92 95 97 98 "
     ]
    }
   ],
   "source": [
    "# 【練習】請找出二位數的數字( xy )中，如果把這個數字顛倒過來剛好是質數的數字。\n",
    "for x in range(0, 10):\n",
    "    for y in range(0, 10):\n",
    "        n = 10*y+x\n",
    "        if n>2:\n",
    "            prime = True\n",
    "            for k in range(2, math.ceil(n**0.5)+1):\n",
    "                if n%k==0:\n",
    "                    prime = False\n",
    "        if prime:\n",
    "            print('%d%d'%(x,y), end=' ')"
   ]
  },
  {
   "cell_type": "code",
   "execution_count": 27,
   "metadata": {},
   "outputs": [
    {
     "name": "stdout",
     "output_type": "stream",
     "text": [
      "請輸入所有數字：4 5 6 7 8\n",
      "請輸入N：12\n",
      "[8, 7, 6, 5, 4]\n"
     ]
    }
   ],
   "source": [
    "# 【練習】輸入一序列的整數數字，請找出前N大的數字。\n",
    "# 《請注意》 串列推導\n",
    "# [變數之推導式 for 變數 in 資料序列/串列]\n",
    "\n",
    "\n",
    "#解法一\n",
    "data = input('請輸入所有數字：').split()\n",
    "n = int(input('請輸入N：'))\n",
    "numbers = [int(num) for num in data]\n",
    "sorted_numbers = sorted(numbers, reverse=True)\n",
    "print(sorted_numbers[:n])"
   ]
  },
  {
   "cell_type": "code",
   "execution_count": 28,
   "metadata": {},
   "outputs": [
    {
     "name": "stdout",
     "output_type": "stream",
     "text": [
      "請輸入所有數字：5 6 7 8 9\n",
      "請輸入N：12\n",
      "9 8 7 6 5 -9999 -9999 -9999 -9999 -9999 -9999 -9999 "
     ]
    }
   ],
   "source": [
    "#解法二\n",
    "numbers = [int(num) for num in input('請輸入所有數字：').split()]\n",
    "n = int(input('請輸入N：'))\n",
    "for j in range(n):\n",
    "    max_num = -9999\n",
    "    for i in range(len(numbers)):\n",
    "        if numbers[i]>max_num:\n",
    "            max_num = numbers[i]\n",
    "            winner = i\n",
    "    print(max_num, end=' ')\n",
    "    numbers[winner] = -9999"
   ]
  },
  {
   "cell_type": "markdown",
   "metadata": {},
   "source": [
    "# 中途略過（continue）與中途跳出（break）\n",
    "continue：直接進入下一輪\n",
    "#break：直接跳出迴圈"
   ]
  },
  {
   "cell_type": "code",
   "execution_count": 29,
   "metadata": {},
   "outputs": [
    {
     "name": "stdout",
     "output_type": "stream",
     "text": [
      "42857\n"
     ]
    }
   ],
   "source": [
    "# 【練習】已知a, b, c, d, e是1到9的不相同數字，請找出a, b, c, d, e然它們滿足下列的乘法算式：\n",
    "\n",
    "\n",
    "for a in range(1, 10):\n",
    "    for b in range(1, 10):\n",
    "        if b==a: continue\n",
    "        for c in range(1, 10):\n",
    "            if c==b or c==a: continue\n",
    "            for d in range(1, 10):\n",
    "                if d==a or d==b or d==c: continue\n",
    "                for e in range(1, 10):\n",
    "                    if e==a or e==b or e==c or e==d: continue\n",
    "                    if (100000+a*10000+b*1000+c*100+d*10+e)*3==a*100000+b*10000+c*1000+d*100+e*10+1:\n",
    "                        print('%d%d%d%d%d'%(a,b,c,d,e))"
   ]
  },
  {
   "cell_type": "code",
   "execution_count": 30,
   "metadata": {},
   "outputs": [
    {
     "name": "stdout",
     "output_type": "stream",
     "text": [
      "請輸入一數字：78\n",
      "2\n",
      "78不是質數。\n"
     ]
    }
   ],
   "source": [
    "# 【練習】輸入一個數字N，請判斷它是否為質數。\n",
    "import math\n",
    "N = int(input('請輸入一數字：'))\n",
    "if N==2:\n",
    "    print('2不是質數。')\n",
    "else:\n",
    "    answer = '是'\n",
    "    for i in range(2, math.ceil(N**0.5)+1):\n",
    "        if N%i == 0:\n",
    "            answer = '不是'\n",
    "            print(i)\n",
    "            break\n",
    "    print('%d%s質數。'%(N, answer))"
   ]
  },
  {
   "cell_type": "code",
   "execution_count": null,
   "metadata": {},
   "outputs": [],
   "source": []
  }
 ],
 "metadata": {
  "kernelspec": {
   "display_name": "Python 3",
   "language": "python",
   "name": "python3"
  },
  "language_info": {
   "codemirror_mode": {
    "name": "ipython",
    "version": 3
   },
   "file_extension": ".py",
   "mimetype": "text/x-python",
   "name": "python",
   "nbconvert_exporter": "python",
   "pygments_lexer": "ipython3",
   "version": "3.7.3"
  }
 },
 "nbformat": 4,
 "nbformat_minor": 2
}
