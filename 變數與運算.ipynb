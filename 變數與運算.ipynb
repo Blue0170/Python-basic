{
 "cells": [
  {
   "cell_type": "markdown",
   "metadata": {},
   "source": [
    "# 使用變數\n",
    "用容易識別的代號來代表儲存資料的記憶體位置\n",
    "#利用 =（指派，Assign）資料給變數\n",
    "#可以用 id() 函數來找出變數的記憶體位置"
   ]
  },
  {
   "cell_type": "code",
   "execution_count": 9,
   "metadata": {},
   "outputs": [
    {
     "name": "stdout",
     "output_type": "stream",
     "text": [
      "江老師的姓名是 江蟀哥 身高為 173.5 體重為 100.0 已婚 True 年齡已經 60\n",
      "2474303996144 2474302908024 2474302907928 140725493733712 140725494258336\n"
     ]
    }
   ],
   "source": [
    "# 【練習】江老師的個人資料如下：\n",
    "# 姓名：江蟀哥\n",
    "# 身高：173.5 cm\n",
    "# 體重：100 kg\n",
    "# 已婚：是\n",
    "# 年齡：60\n",
    "# 請用變數來儲存這些資料值，並且把它們的資料內容和記憶體位置輸出。\n",
    "\n",
    "\n",
    "name = '江蟀哥' #字串資料 \n",
    "height = 173.5 #小數資料\n",
    "weight = 100.0 #小數資料\n",
    "married = True # 布林資料\n",
    "age = 60 #整數資料\n",
    "print('江老師的姓名是', name, '身高為', height, '體重為', weight, '已婚', married, '年齡已經', age)\n",
    "print(id(name), id(height), id(weight), id(married), id(age)) #印出變數代表的記憶體位置"
   ]
  },
  {
   "cell_type": "markdown",
   "metadata": {},
   "source": [
    "# 轉換變數的資料型態\n",
    "有時候一個資料必須從一種型態轉到另一種型態"
   ]
  },
  {
   "cell_type": "code",
   "execution_count": 10,
   "metadata": {},
   "outputs": [
    {
     "name": "stdout",
     "output_type": "stream",
     "text": [
      "江老師的身份證字號是 H123456789 身高為 173.5 年齡是 60\n"
     ]
    }
   ],
   "source": [
    "\n",
    "letter = 'H'\n",
    "number = 123456789\n",
    "height = '153.5'\n",
    "age = '30'\n",
    "\n",
    "idnumber = letter + str(number) #數字傳字串後與英文字母串接\n",
    "age, height = int(age), float(height)\n",
    "age = age * 2\n",
    "height = height + 20\n",
    "print('江老師的身份證字號是', idnumber, '身高為', height, '年齡是', age)"
   ]
  },
  {
   "cell_type": "markdown",
   "metadata": {},
   "source": [
    "# 四則運算\n",
    "數字資料的加（+）、減（-）、乘（*）、除（/，//）、餘（%）、次方（**）等運算\n",
    "#優先序：括號優先，先乘除後加減"
   ]
  },
  {
   "cell_type": "code",
   "execution_count": 11,
   "metadata": {},
   "outputs": [
    {
     "name": "stdout",
     "output_type": "stream",
     "text": [
      "圓面積 = 78.53975 矩形周長 =  66\n",
      "圓面積 = 78.53975 矩形周長 =  66\n"
     ]
    }
   ],
   "source": [
    "# 【練習】圓半徑為5，請算出其面積。又矩形面積高與寬分別為10和23，請計算其周長。\n",
    "radius = 5\n",
    "circle_area1 = 3.14159 * radius * radius\n",
    "circle_area2 = 3.14159 * radius ** 2\n",
    "height = 10\n",
    "width = 23\n",
    "rect_perimeter = (height+width)*2\n",
    "print('圓面積 =', circle_area1, '矩形周長 = ', rect_perimeter)\n",
    "print('圓面積 =', circle_area2, '矩形周長 = ', rect_perimeter)"
   ]
  },
  {
   "cell_type": "code",
   "execution_count": 12,
   "metadata": {},
   "outputs": [
    {
     "name": "stdout",
     "output_type": "stream",
     "text": [
      "第一根為 1.1622776601683795 第二根為 -5.16227766016838\n"
     ]
    }
   ],
   "source": [
    "# 方程式 3x2+4x−2=0 的根是多少？\n",
    "a = 3\n",
    "b = 4\n",
    "c = -2\n",
    "root1 = (-b + (b*b-4*a*c)**0.5)/2\n",
    "root2 = (-b - (b*b-4*a*c)**0.5)/2\n",
    "print('第一根為', root1, '第二根為', root2)"
   ]
  },
  {
   "cell_type": "code",
   "execution_count": 13,
   "metadata": {},
   "outputs": [
    {
     "name": "stdout",
     "output_type": "stream",
     "text": [
      "1567889 = 18 日 3 小時 31 分鐘 29 秒\n"
     ]
    }
   ],
   "source": [
    "# 【練習】1567889秒等於幾日幾時幾分幾秒？\n",
    "# 解法一：\n",
    "total_seconds = 1567889\n",
    "days = total_seconds//(60*60*24) #日\n",
    "remained_seconds = total_seconds - days * (60*60*24)\n",
    "hours = remained_seconds//(60*60) #小時\n",
    "remained_seconds = remained_seconds - hours * 3600\n",
    "minutes = remained_seconds // 60 #分鐘\n",
    "remained_seconds = remained_seconds - minutes * 60\n",
    "print(total_seconds,'=',days, '日', hours,'小時',minutes,'分鐘',remained_seconds,'秒')"
   ]
  },
  {
   "cell_type": "code",
   "execution_count": 14,
   "metadata": {},
   "outputs": [
    {
     "name": "stdout",
     "output_type": "stream",
     "text": [
      "1567889 = 18 日 3 小時 31 分鐘 29 秒\n"
     ]
    }
   ],
   "source": [
    "# 解法二：\n",
    "total_seconds = 1567889\n",
    "days = total_seconds//(60*60*24) #日\n",
    "remained_seconds = total_seconds % (60*60*24)\n",
    "hours = remained_seconds//(60*60) #小時\n",
    "remained_seconds = remained_seconds % 3600\n",
    "minutes = remained_seconds // 60 #分鐘\n",
    "remained_seconds = remained_seconds % 60\n",
    "print(total_seconds,'=',days, '日', hours,'小時',minutes,'分鐘',remained_seconds,'秒')"
   ]
  },
  {
   "cell_type": "markdown",
   "metadata": {},
   "source": [
    "# 捷徑式指派\n",
    "某變數 = 某變數 運算子 某資料 ===》 某變數 運算子= 某資料"
   ]
  },
  {
   "cell_type": "code",
   "execution_count": null,
   "metadata": {},
   "outputs": [],
   "source": [
    "# 請將練習五改為捷徑式指派\n",
    "total_seconds = 1567889\n",
    "days = total_seconds//(60*60*24) \n",
    "remained_seconds = total_seconds - days * (60*60*24)\n",
    "hours = remained_seconds//(60*60) \n",
    "remained_seconds -= hours * 3600 #捷徑式指派\n",
    "minutes = remained_seconds // 60 \n",
    "remained_seconds -= minutes * 60 #捷徑式指派\n",
    "print(total_seconds,'=',days, '日', hours,'小時',minutes,'分鐘',remained_seconds,'秒')"
   ]
  },
  {
   "cell_type": "markdown",
   "metadata": {},
   "source": [
    "# 字串長度、串接與分割\n",
    "#len(s)：取得字串s的長度\n",
    "#+：字串1 + 字串2表示將二字串串接起來\n",
    "#s.split(d)：以分割字符 d 來分割字串 s"
   ]
  },
  {
   "cell_type": "code",
   "execution_count": 38,
   "metadata": {},
   "outputs": [
    {
     "name": "stdout",
     "output_type": "stream",
     "text": [
      "19\n"
     ]
    }
   ],
   "source": [
    "print(len('Tom')+len('George')+len('Washington'))"
   ]
  },
  {
   "cell_type": "code",
   "execution_count": 17,
   "metadata": {},
   "outputs": [
    {
     "name": "stdout",
     "output_type": "stream",
     "text": [
      "I Love Python.\n"
     ]
    }
   ],
   "source": [
    "print('I '+'Love '+'Python.')"
   ]
  },
  {
   "cell_type": "code",
   "execution_count": 18,
   "metadata": {},
   "outputs": [
    {
     "name": "stdout",
     "output_type": "stream",
     "text": [
      "三人成績分別為 67.4 88.3 93.2 平均分數 = 82.96666666666665\n"
     ]
    }
   ],
   "source": [
    "scores = '67.4 88.3 93.2'\n",
    "s1, s2, s3 = scores.split() #以空格切開scores\n",
    "s1, s2, s3 = float(s1), float(s2), float(s3)\n",
    "average = (s1+s2+s3)/3\n",
    "print('三人成績分別為', s1, s2, s3, '平均分數 =', average)"
   ]
  },
  {
   "cell_type": "code",
   "execution_count": 20,
   "metadata": {},
   "outputs": [
    {
     "name": "stdout",
     "output_type": "stream",
     "text": [
      "三人成績分別為 67.4 88.3 93.2 平均分數 = 82.96666666666665\n"
     ]
    }
   ],
   "source": [
    "scores = '67.4,88.3,93.2'\n",
    "s1, s2, s3 = scores.split(',') #以空格切開scores\n",
    "s1, s2, s3 = float(s1), float(s2), float(s3)\n",
    "average = (s1+s2+s3)/3\n",
    "print('三人成績分別為', s1, s2, s3, '平均分數 =', average)"
   ]
  },
  {
   "cell_type": "code",
   "execution_count": 21,
   "metadata": {},
   "outputs": [
    {
     "name": "stdout",
     "output_type": "stream",
     "text": [
      "67.4 88.3 93.2\n",
      "三人成績分別為 67.4 88.3 93.2 平均分數 = 82.96666666666665\n"
     ]
    }
   ],
   "source": [
    "scores = '67.4---88.3---93.2'\n",
    "s1, s2, s3 = scores.split('---') #以空格切開scores\n",
    "print(s1, s2, s3)\n",
    "s1, s2, s3 = float(s1), float(s2), float(s3)\n",
    "average = (s1+s2+s3)/3\n",
    "print('三人成績分別為', s1, s2, s3, '平均分數 =', average)"
   ]
  },
  {
   "cell_type": "code",
   "execution_count": 22,
   "metadata": {},
   "outputs": [
    {
     "name": "stdout",
     "output_type": "stream",
     "text": [
      "平均分數 = 74.33333333333333\n"
     ]
    }
   ],
   "source": [
    "data = '丹丹 | 11001122 | 88.3 56.4 78.3'\n",
    "name, id, scores = data.split('|')\n",
    "s1, s2, s3 = scores.split()\n",
    "s1, s2, s3 = float(s1), float(s2), float(s3)\n",
    "avg = (s1+s2+s3)/3\n",
    "print('平均分數 =', avg)"
   ]
  },
  {
   "cell_type": "markdown",
   "metadata": {},
   "source": [
    "# 字串搜尋與取代\n",
    "#s1 in s2：s1是否有出現在s2中\n",
    "#s.replace(old_s, new_s)：取得字串s中的old_s為new_s\n",
    "#s1.index(s2)：找出s2首次出現在s1中的位置，如果未出現則報錯\n",
    "#s1.index(s2, n)：從第n個數字開始，找出s2首次出現在s1中的位置，如果未出現則報錯\n",
    "#s1.find(s2)：找出s2首次出現在s1中的位置，如果未出現則傳回-1\n",
    "#s1.find(s2, n)：找出s2首次出現在s1中的位置，如果未出現則傳回-1\n"
   ]
  },
  {
   "cell_type": "code",
   "execution_count": 23,
   "metadata": {},
   "outputs": [
    {
     "name": "stdout",
     "output_type": "stream",
     "text": [
      "丹丹學號是 11001122 總分 = 223.0\n"
     ]
    }
   ],
   "source": [
    "# 【練習】電腦中有個成績檔案裡面讀出來的內容是一個字串如下：\n",
    "# 丹丹 | 11001122 | 88.3 | 56.4 | 78.3\n",
    "\n",
    "# 請檢查這個資料中是不是丹丹的成績資料？如果是，請取出他的學號以及總分。\n",
    "\n",
    "\n",
    "data = '丹丹 | 11001122 | 88.3 + 56.4 + 78.3'\n",
    "if '丹丹' in data:\n",
    "    name, sid, s1, s2, s3 = data.replace('|',' ').replace('+',' ').split()\n",
    "print('丹丹學號是', sid, '總分 =', float(s1)+float(s2)+float(s3))"
   ]
  },
  {
   "cell_type": "code",
   "execution_count": 24,
   "metadata": {},
   "outputs": [
    {
     "name": "stdout",
     "output_type": "stream",
     "text": [
      "台灣第一次出現在 0 台灣第二次出現在 7 美國第一次出現在 21\n"
     ]
    }
   ],
   "source": [
    "# 【練習】網路上截取到的一個關於世界景點的資料文字如下：\n",
    "# 台灣：阿里山，台灣：日月潭，日本：富士山，美國：洛基山\n",
    "\n",
    "# 請幫忙找出台灣和美國在這資料中出現的位置。\n",
    "data = '台灣：阿里山，台灣：日月潭，日本：富士山，美國：洛基山'\n",
    "pos1 = data.index('台灣')\n",
    "pos2 = data.index('台灣', pos1+1)\n",
    "pos3 = data.index('美國')\n",
    "print('台灣第一次出現在', pos1,'台灣第二次出現在', pos2, '美國第一次出現在', pos3)"
   ]
  },
  {
   "cell_type": "code",
   "execution_count": 25,
   "metadata": {},
   "outputs": [
    {
     "name": "stdout",
     "output_type": "stream",
     "text": [
      "台灣第一次出現在 0 台灣第二次出現在 7 美國第一次出現在 -1\n"
     ]
    }
   ],
   "source": [
    "data = '台灣：阿里山，台灣：日月潭，日本：富士山，美國：洛基山'\n",
    "pos1 = data.index('台灣')\n",
    "pos2 = data.index('台灣', pos1+1)\n",
    "pos3 = data.find('英國')\n",
    "print('台灣第一次出現在', pos1,'台灣第二次出現在', pos2, '美國第一次出現在', pos3)\n",
    "pos4 = data.find('英國')"
   ]
  },
  {
   "cell_type": "markdown",
   "metadata": {},
   "source": [
    "# 子字串截取\n",
    "#s[a:b]：從第a個字母取到第b-1個（第b個的前一個）字母\n",
    "#s[a:b:c]：從第a個字母每隔c個字取一個字母，一直取到第b-1（不超過b-1）個字母為止\n",
    "#s[-a:-b]：從倒數第a個字母取到倒數第b+1個（倒數第b個的前一個）字母\n",
    "#s[::-1]：反轉s"
   ]
  },
  {
   "cell_type": "code",
   "execution_count": 26,
   "metadata": {},
   "outputs": [
    {
     "name": "stdout",
     "output_type": "stream",
     "text": [
      "英文： JX 數字： 1234\n",
      "英文： AA 數字： 5678\n"
     ]
    }
   ],
   "source": [
    "# 【練習】車牌號碼有二種格式，例如JX-1234或是5678-AA，如果給你一個車牌，你能否用程式分出英文部分和數字部分？\n",
    "# name1 = 'JX-1234'\n",
    "# name2 = '5678-AA'\n",
    "# 方法一：\n",
    "name1 = 'JX-1234'\n",
    "name2 = '5678-AA'\n",
    "p1, p2 = name1.split('-')\n",
    "if len(p1)<len(p2):\n",
    "    print('英文：', p1, '數字：', p2)\n",
    "else:\n",
    "    print('英文：', p2, '數字：', p1)\n",
    "p1, p2 = name2.split('-')\n",
    "if len(p1)<len(p2):\n",
    "    print('英文：', p1, '數字：', p2)\n",
    "else:\n",
    "    print('英文：', p2, '數字：', p1)"
   ]
  },
  {
   "cell_type": "code",
   "execution_count": 27,
   "metadata": {},
   "outputs": [
    {
     "name": "stdout",
     "output_type": "stream",
     "text": [
      "英文： AA 數字： 5678\n"
     ]
    }
   ],
   "source": [
    "#方法二：\n",
    "#name1 = 'JX-1234'\n",
    "name1 = '5678-AA'\n",
    "length = len(name1)\n",
    "dash_pos = name1.index('-')\n",
    "if dash_pos>length//2:\n",
    "    print('英文：', name1[dash_pos+1:length], '數字：', name1[0:dash_pos])\n",
    "else:\n",
    "    print('英文：', name1[0:dash_pos], '數字：', name1[dash_pos+1:length])"
   ]
  },
  {
   "cell_type": "code",
   "execution_count": 28,
   "metadata": {},
   "outputs": [
    {
     "name": "stdout",
     "output_type": "stream",
     "text": [
      "數字反轉： 4321\n"
     ]
    }
   ],
   "source": [
    "# 【練習】給你一個車牌號碼，請把它的數字部分反轉。\n",
    "#name1 = '5678-AA'\n",
    "name1 = 'JX-1234'\n",
    "length = len(name1)\n",
    "dash_pos = name1.index('-')\n",
    "if dash_pos>length//2:\n",
    "    digit = name1[0:dash_pos]\n",
    "    print('數字反轉：',digit[::-1])\n",
    "else:\n",
    "    digit = name1[dash_pos+1:length]\n",
    "    print('數字反轉：',digit[::-1])"
   ]
  },
  {
   "cell_type": "code",
   "execution_count": 29,
   "metadata": {},
   "outputs": [
    {
     "name": "stdout",
     "output_type": "stream",
     "text": [
      "景點一： 阿里山\n",
      "景點二： 日月潭\n"
     ]
    }
   ],
   "source": [
    "# 【練習】網路上截取到的一個關於世界景點的資料文字如下：\n",
    "# 台灣：阿里山，日本：富士山，美國：洛基山，台灣：日月潭\n",
    "\n",
    "# 請幫忙找出台灣的景點。\n",
    "data = '台灣：阿里山，日本：富士山，美國：洛基山，台灣：日月潭'\n",
    "pos1 = data.find('台灣：')\n",
    "pos2 = data.find('，')\n",
    "if pos2==-1: #找不到逗號\n",
    "    pos2 = len(data)\n",
    "print('景點一：', data[pos1+3:pos2])\n",
    "pos1 = data.find('台灣：', pos2)\n",
    "pos2 = data.find('，',pos1)\n",
    "if pos2==-1: #找不到逗號\n",
    "    pos2 = len(data)\n",
    "print('景點二：', data[pos1+3:pos2])"
   ]
  },
  {
   "cell_type": "markdown",
   "metadata": {},
   "source": [
    "# 比較運算\n",
    "#a == b： a是否等於b(是則True，否則False)\n",
    "#a != b： a是否不等於b(是則True，否則False)\n",
    "#a >= b： a是否大或等於b(是則True，否則False)\n",
    "#a > b： a是否大於b(是則True，否則False)\n",
    "#a <= b： a是否小或等於b(是則True，否則False)\n",
    "#a < b： a是否小於b(是則True，否則False)\n",
    "#a < (或<=) b <（或<=） c： b 是否介於a與b之間（是則True，否則False）\n"
   ]
  },
  {
   "cell_type": "code",
   "execution_count": 31,
   "metadata": {},
   "outputs": [
    {
     "name": "stdout",
     "output_type": "stream",
     "text": [
      "40 50 100\n"
     ]
    }
   ],
   "source": [
    "# 【練習】請排列三數由大而小。\n",
    "a, b, c = 100, 40, 50\n",
    "if a<=b<=c:\n",
    "    print(a, b, c)\n",
    "elif a<=c<=b:\n",
    "    print(a, c, b)\n",
    "elif b<=a<=c:\n",
    "    print(b, a, c)\n",
    "elif b<=c<=a:\n",
    "    print(b, c, a)\n",
    "elif c<=a<=b:\n",
    "    print(c, a, b)\n",
    "else:\n",
    "    print(c, b, a)\n"
   ]
  },
  {
   "cell_type": "code",
   "execution_count": 32,
   "metadata": {},
   "outputs": [
    {
     "name": "stdout",
     "output_type": "stream",
     "text": [
      "有二複數根\n"
     ]
    }
   ],
   "source": [
    "# 【練習】判別方程式 ax2+bx+c=0 的二根類別。\n",
    "a, b, c = 100, 40, 50\n",
    "if b*b-4*a*c>0:\n",
    "    print('有相異二實根')\n",
    "elif b*b-4*a*c==0:\n",
    "    print('有相同二實根')\n",
    "else:\n",
    "    print('有二複數根')"
   ]
  },
  {
   "cell_type": "markdown",
   "metadata": {},
   "source": [
    "# 邏輯運算"
   ]
  },
  {
   "cell_type": "code",
   "execution_count": 36,
   "metadata": {},
   "outputs": [
    {
     "name": "stdout",
     "output_type": "stream",
     "text": [
      "True\n"
     ]
    }
   ],
   "source": [
    "# 練習】閏年規則：\n",
    "# 年份被4整除，當不能被100整除，或者是\n",
    "# 年份可被400整除\n",
    "# 給定一個年份，請判斷是否為閏年。\n",
    "year = 2004\n",
    "leap_year = (year % 4 == 0 and year % 100 != 0) or (year % 400 == 0)\n",
    "print(leap_year)"
   ]
  },
  {
   "cell_type": "code",
   "execution_count": 37,
   "metadata": {},
   "outputs": [
    {
     "name": "stdout",
     "output_type": "stream",
     "text": [
      "小月\n"
     ]
    }
   ],
   "source": [
    "# 給定一個月份，請判斷大月或小月？\n",
    "\n",
    "month = 9\n",
    "if (month <= 7 and month % 2 == 0) or (month > 7 and month % 2 != 0):\n",
    "    print('小月')\n",
    "else:\n",
    "    print('大月')\n"
   ]
  },
  {
   "cell_type": "code",
   "execution_count": null,
   "metadata": {},
   "outputs": [],
   "source": []
  }
 ],
 "metadata": {
  "kernelspec": {
   "display_name": "Python 3",
   "language": "python",
   "name": "python3"
  },
  "language_info": {
   "codemirror_mode": {
    "name": "ipython",
    "version": 3
   },
   "file_extension": ".py",
   "mimetype": "text/x-python",
   "name": "python",
   "nbconvert_exporter": "python",
   "pygments_lexer": "ipython3",
   "version": "3.7.3"
  }
 },
 "nbformat": 4,
 "nbformat_minor": 2
}
